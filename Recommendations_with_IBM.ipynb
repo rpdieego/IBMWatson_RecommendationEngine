{
  "nbformat": 4,
  "nbformat_minor": 0,
  "metadata": {
    "kernelspec": {
      "display_name": "Python 3",
      "language": "python",
      "name": "python3"
    },
    "language_info": {
      "codemirror_mode": {
        "name": "ipython",
        "version": 3
      },
      "file_extension": ".py",
      "mimetype": "text/x-python",
      "name": "python",
      "nbconvert_exporter": "python",
      "pygments_lexer": "ipython3",
      "version": "3.6.3"
    },
    "colab": {
      "name": "Recommendations_with_IBM.ipynb",
      "provenance": [],
      "include_colab_link": true
    }
  },
  "cells": [
    {
      "cell_type": "markdown",
      "metadata": {
        "id": "view-in-github",
        "colab_type": "text"
      },
      "source": [
        "<a href=\"https://colab.research.google.com/github/rpdieego/IBMWatson_RecommendationEngine/blob/master/Recommendations_with_IBM.ipynb\" target=\"_parent\"><img src=\"https://colab.research.google.com/assets/colab-badge.svg\" alt=\"Open In Colab\"/></a>"
      ]
    },
    {
      "cell_type": "markdown",
      "metadata": {
        "id": "kMvkvOpSotg5",
        "colab_type": "text"
      },
      "source": [
        "# Recommendations with IBM\n",
        "\n",
        "In this notebook, you will be putting your recommendation skills to use on real data from the IBM Watson Studio platform. \n",
        "\n",
        "\n",
        "You may either submit your notebook through the workspace here, or you may work from your local machine and submit through the next page.  Either way assure that your code passes the project [RUBRIC](https://review.udacity.com/#!/rubrics/2322/view).  **Please save regularly.**\n",
        "\n",
        "By following the table of contents, you will build out a number of different methods for making recommendations that can be used for different situations. \n",
        "\n",
        "\n",
        "## Table of Contents\n",
        "\n",
        "I. [Exploratory Data Analysis](#Exploratory-Data-Analysis)<br>\n",
        "II. [Rank Based Recommendations](#Rank)<br>\n",
        "III. [User-User Based Collaborative Filtering](#User-User)<br>\n",
        "IV. [Content Based Recommendations (EXTRA - NOT REQUIRED)](#Content-Recs)<br>\n",
        "V. [Matrix Factorization](#Matrix-Fact)<br>\n",
        "VI. [Extras & Concluding](#conclusions)\n",
        "\n",
        "At the end of the notebook, you will find directions for how to submit your work.  Let's get started by importing the necessary libraries and reading in the data."
      ]
    },
    {
      "cell_type": "code",
      "metadata": {
        "id": "0CBelDHENQJH",
        "colab_type": "code",
        "colab": {}
      },
      "source": [
        "# Code to read files from Google Drive into Colaboratory:\n",
        "!pip install -U -q PyDrive\n",
        "from pydrive.auth import GoogleAuth\n",
        "from pydrive.drive import GoogleDrive\n",
        "from google.colab import auth\n",
        "from oauth2client.client import GoogleCredentials\n",
        "# Authenticate and create the PyDrive client.\n",
        "auth.authenticate_user()\n",
        "gauth = GoogleAuth()\n",
        "gauth.credentials = GoogleCredentials.get_application_default()\n",
        "drive = GoogleDrive(gauth)"
      ],
      "execution_count": 0,
      "outputs": []
    },
    {
      "cell_type": "code",
      "metadata": {
        "id": "Yh14Xsf5NZBm",
        "colab_type": "code",
        "outputId": "5ac68880-fe4e-4ab2-f3b9-80e053f40d1f",
        "colab": {
          "base_uri": "https://localhost:8080/",
          "height": 35
        }
      },
      "source": [
        "# Import from Google Drive\n",
        "\n",
        "link = 'https://drive.google.com/open?id=12JLzic4hraiGpvqlW_JFkS-SXFs-ErCI'\n",
        "\n",
        "fluff, id = link.split('=')\n",
        "print (id) # Verify that we have everything after '='\n",
        "\n",
        "downloaded = drive.CreateFile({'id':id}) \n",
        "downloaded.GetContentFile('project_tests.py')\n",
        "import project_tests as t"
      ],
      "execution_count": 2,
      "outputs": [
        {
          "output_type": "stream",
          "text": [
            "12JLzic4hraiGpvqlW_JFkS-SXFs-ErCI\n"
          ],
          "name": "stdout"
        }
      ]
    },
    {
      "cell_type": "code",
      "metadata": {
        "id": "UrBPOAcrb243",
        "colab_type": "code",
        "outputId": "dbf8fe80-e5ae-405d-e4a1-83b29619c306",
        "colab": {
          "base_uri": "https://localhost:8080/",
          "height": 35
        }
      },
      "source": [
        "# Import from Google Drive\n",
        "\n",
        "link_top5 = 'https://drive.google.com/open?id=1bpyTMMnAYbVbI9LH0DOEWIVdU_pgQImW'\n",
        "\n",
        "fluff, id = link_top5.split('=')\n",
        "print (id) # Verify that we have everything after '='\n",
        "\n",
        "downloaded = drive.CreateFile({'id':id}) \n",
        "downloaded.GetContentFile('top_5.p')"
      ],
      "execution_count": 3,
      "outputs": [
        {
          "output_type": "stream",
          "text": [
            "1bpyTMMnAYbVbI9LH0DOEWIVdU_pgQImW\n"
          ],
          "name": "stdout"
        }
      ]
    },
    {
      "cell_type": "code",
      "metadata": {
        "id": "sTgQyCNmcB8b",
        "colab_type": "code",
        "outputId": "278ac253-67a8-44aa-e67f-d588944ef3ae",
        "colab": {
          "base_uri": "https://localhost:8080/",
          "height": 35
        }
      },
      "source": [
        "# Import from Google Drive\n",
        "\n",
        "link_top10 = 'https://drive.google.com/open?id=1pxWNjM6SBqMRLFdv0MGo9yDKb_fwY2RN'\n",
        "\n",
        "fluff, id = link_top10.split('=')\n",
        "print (id) # Verify that we have everything after '='\n",
        "\n",
        "downloaded = drive.CreateFile({'id':id}) \n",
        "downloaded.GetContentFile('top_10.p')"
      ],
      "execution_count": 4,
      "outputs": [
        {
          "output_type": "stream",
          "text": [
            "1pxWNjM6SBqMRLFdv0MGo9yDKb_fwY2RN\n"
          ],
          "name": "stdout"
        }
      ]
    },
    {
      "cell_type": "code",
      "metadata": {
        "id": "PL7vjEoXcFlq",
        "colab_type": "code",
        "outputId": "666d93c4-9320-431a-dec4-3d350c7f8a81",
        "colab": {
          "base_uri": "https://localhost:8080/",
          "height": 35
        }
      },
      "source": [
        "# Import from Google Drive\n",
        "\n",
        "link_top20 = 'https://drive.google.com/open?id=10KlI8oufQsjeex1mJH4ryxXOJcm6Hcm0'\n",
        "\n",
        "fluff, id = link_top20.split('=')\n",
        "print (id) # Verify that we have everything after '='\n",
        "\n",
        "downloaded = drive.CreateFile({'id':id}) \n",
        "downloaded.GetContentFile('top_20.p')"
      ],
      "execution_count": 5,
      "outputs": [
        {
          "output_type": "stream",
          "text": [
            "10KlI8oufQsjeex1mJH4ryxXOJcm6Hcm0\n"
          ],
          "name": "stdout"
        }
      ]
    },
    {
      "cell_type": "code",
      "metadata": {
        "id": "2eiIIFYldAh-",
        "colab_type": "code",
        "outputId": "5d1a9830-5b88-4af9-9d9f-e08ca1d6596c",
        "colab": {
          "base_uri": "https://localhost:8080/",
          "height": 35
        }
      },
      "source": [
        "# Import from Google Drive\n",
        "\n",
        "link_matrix = 'https://drive.google.com/open?id=1ifkWMMbR7NkoXUe6otOlbDn0FvgUwnLF'\n",
        "\n",
        "fluff, id = link_matrix.split('=')\n",
        "print (id) # Verify that we have everything after '='\n",
        "\n",
        "downloaded = drive.CreateFile({'id':id}) \n",
        "downloaded.GetContentFile('user_item_matrix.p')"
      ],
      "execution_count": 6,
      "outputs": [
        {
          "output_type": "stream",
          "text": [
            "1ifkWMMbR7NkoXUe6otOlbDn0FvgUwnLF\n"
          ],
          "name": "stdout"
        }
      ]
    },
    {
      "cell_type": "code",
      "metadata": {
        "id": "iFkrl83VymtQ",
        "colab_type": "code",
        "colab": {}
      },
      "source": [
        "import pandas as pd\n",
        "import numpy as np\n",
        "import matplotlib.pyplot as plt\n",
        "import pickle\n",
        "import seaborn as sns\n",
        "from sklearn.metrics import accuracy_score\n",
        "\n",
        "%matplotlib inline"
      ],
      "execution_count": 0,
      "outputs": []
    },
    {
      "cell_type": "code",
      "metadata": {
        "id": "Qwsi8IrZotg6",
        "colab_type": "code",
        "outputId": "b55110d6-564e-499c-cc49-68b45db947b0",
        "colab": {
          "base_uri": "https://localhost:8080/",
          "height": 198
        }
      },
      "source": [
        "\n",
        "url = 'https://raw.githubusercontent.com/rpdieego/IBMWatson_RecommendationEngine/master/user-item-interactions.csv'\n",
        "url_content = 'https://raw.githubusercontent.com/rpdieego/IBMWatson_RecommendationEngine/master/articles_community.csv'\n",
        "\n",
        "df = pd.read_csv(url)\n",
        "df_content = pd.read_csv(url_content)\n",
        "del df['Unnamed: 0']\n",
        "del df_content['Unnamed: 0']\n",
        "\n",
        "# Show df to get an idea of the data\n",
        "df.head()"
      ],
      "execution_count": 8,
      "outputs": [
        {
          "output_type": "execute_result",
          "data": {
            "text/html": [
              "<div>\n",
              "<style scoped>\n",
              "    .dataframe tbody tr th:only-of-type {\n",
              "        vertical-align: middle;\n",
              "    }\n",
              "\n",
              "    .dataframe tbody tr th {\n",
              "        vertical-align: top;\n",
              "    }\n",
              "\n",
              "    .dataframe thead th {\n",
              "        text-align: right;\n",
              "    }\n",
              "</style>\n",
              "<table border=\"1\" class=\"dataframe\">\n",
              "  <thead>\n",
              "    <tr style=\"text-align: right;\">\n",
              "      <th></th>\n",
              "      <th>article_id</th>\n",
              "      <th>title</th>\n",
              "      <th>email</th>\n",
              "    </tr>\n",
              "  </thead>\n",
              "  <tbody>\n",
              "    <tr>\n",
              "      <th>0</th>\n",
              "      <td>1430.0</td>\n",
              "      <td>using pixiedust for fast, flexible, and easier...</td>\n",
              "      <td>ef5f11f77ba020cd36e1105a00ab868bbdbf7fe7</td>\n",
              "    </tr>\n",
              "    <tr>\n",
              "      <th>1</th>\n",
              "      <td>1314.0</td>\n",
              "      <td>healthcare python streaming application demo</td>\n",
              "      <td>083cbdfa93c8444beaa4c5f5e0f5f9198e4f9e0b</td>\n",
              "    </tr>\n",
              "    <tr>\n",
              "      <th>2</th>\n",
              "      <td>1429.0</td>\n",
              "      <td>use deep learning for image classification</td>\n",
              "      <td>b96a4f2e92d8572034b1e9b28f9ac673765cd074</td>\n",
              "    </tr>\n",
              "    <tr>\n",
              "      <th>3</th>\n",
              "      <td>1338.0</td>\n",
              "      <td>ml optimization using cognitive assistant</td>\n",
              "      <td>06485706b34a5c9bf2a0ecdac41daf7e7654ceb7</td>\n",
              "    </tr>\n",
              "    <tr>\n",
              "      <th>4</th>\n",
              "      <td>1276.0</td>\n",
              "      <td>deploy your python model as a restful api</td>\n",
              "      <td>f01220c46fc92c6e6b161b1849de11faacd7ccb2</td>\n",
              "    </tr>\n",
              "  </tbody>\n",
              "</table>\n",
              "</div>"
            ],
            "text/plain": [
              "   article_id  ...                                     email\n",
              "0      1430.0  ...  ef5f11f77ba020cd36e1105a00ab868bbdbf7fe7\n",
              "1      1314.0  ...  083cbdfa93c8444beaa4c5f5e0f5f9198e4f9e0b\n",
              "2      1429.0  ...  b96a4f2e92d8572034b1e9b28f9ac673765cd074\n",
              "3      1338.0  ...  06485706b34a5c9bf2a0ecdac41daf7e7654ceb7\n",
              "4      1276.0  ...  f01220c46fc92c6e6b161b1849de11faacd7ccb2\n",
              "\n",
              "[5 rows x 3 columns]"
            ]
          },
          "metadata": {
            "tags": []
          },
          "execution_count": 8
        }
      ]
    },
    {
      "cell_type": "code",
      "metadata": {
        "id": "qcbgS748otg-",
        "colab_type": "code",
        "outputId": "a800f938-811b-4ca5-adc2-c8e07d43dfad",
        "colab": {
          "base_uri": "https://localhost:8080/",
          "height": 285
        }
      },
      "source": [
        "# Show df_content to get an idea of the data\n",
        "df_content.head()"
      ],
      "execution_count": 0,
      "outputs": [
        {
          "output_type": "execute_result",
          "data": {
            "text/html": [
              "<div>\n",
              "<style scoped>\n",
              "    .dataframe tbody tr th:only-of-type {\n",
              "        vertical-align: middle;\n",
              "    }\n",
              "\n",
              "    .dataframe tbody tr th {\n",
              "        vertical-align: top;\n",
              "    }\n",
              "\n",
              "    .dataframe thead th {\n",
              "        text-align: right;\n",
              "    }\n",
              "</style>\n",
              "<table border=\"1\" class=\"dataframe\">\n",
              "  <thead>\n",
              "    <tr style=\"text-align: right;\">\n",
              "      <th></th>\n",
              "      <th>doc_body</th>\n",
              "      <th>doc_description</th>\n",
              "      <th>doc_full_name</th>\n",
              "      <th>doc_status</th>\n",
              "      <th>article_id</th>\n",
              "    </tr>\n",
              "  </thead>\n",
              "  <tbody>\n",
              "    <tr>\n",
              "      <th>0</th>\n",
              "      <td>Skip navigation Sign in SearchLoading...\\r\\n\\r...</td>\n",
              "      <td>Detect bad readings in real time using Python ...</td>\n",
              "      <td>Detect Malfunctioning IoT Sensors with Streami...</td>\n",
              "      <td>Live</td>\n",
              "      <td>0</td>\n",
              "    </tr>\n",
              "    <tr>\n",
              "      <th>1</th>\n",
              "      <td>No Free Hunch Navigation * kaggle.com\\r\\n\\r\\n ...</td>\n",
              "      <td>See the forest, see the trees. Here lies the c...</td>\n",
              "      <td>Communicating data science: A guide to present...</td>\n",
              "      <td>Live</td>\n",
              "      <td>1</td>\n",
              "    </tr>\n",
              "    <tr>\n",
              "      <th>2</th>\n",
              "      <td>☰ * Login\\r\\n * Sign Up\\r\\n\\r\\n * Learning Pat...</td>\n",
              "      <td>Here’s this week’s news in Data Science and Bi...</td>\n",
              "      <td>This Week in Data Science (April 18, 2017)</td>\n",
              "      <td>Live</td>\n",
              "      <td>2</td>\n",
              "    </tr>\n",
              "    <tr>\n",
              "      <th>3</th>\n",
              "      <td>DATALAYER: HIGH THROUGHPUT, LOW LATENCY AT SCA...</td>\n",
              "      <td>Learn how distributed DBs solve the problem of...</td>\n",
              "      <td>DataLayer Conference: Boost the performance of...</td>\n",
              "      <td>Live</td>\n",
              "      <td>3</td>\n",
              "    </tr>\n",
              "    <tr>\n",
              "      <th>4</th>\n",
              "      <td>Skip navigation Sign in SearchLoading...\\r\\n\\r...</td>\n",
              "      <td>This video demonstrates the power of IBM DataS...</td>\n",
              "      <td>Analyze NY Restaurant data using Spark in DSX</td>\n",
              "      <td>Live</td>\n",
              "      <td>4</td>\n",
              "    </tr>\n",
              "  </tbody>\n",
              "</table>\n",
              "</div>"
            ],
            "text/plain": [
              "                                            doc_body  ... article_id\n",
              "0  Skip navigation Sign in SearchLoading...\\r\\n\\r...  ...          0\n",
              "1  No Free Hunch Navigation * kaggle.com\\r\\n\\r\\n ...  ...          1\n",
              "2  ☰ * Login\\r\\n * Sign Up\\r\\n\\r\\n * Learning Pat...  ...          2\n",
              "3  DATALAYER: HIGH THROUGHPUT, LOW LATENCY AT SCA...  ...          3\n",
              "4  Skip navigation Sign in SearchLoading...\\r\\n\\r...  ...          4\n",
              "\n",
              "[5 rows x 5 columns]"
            ]
          },
          "metadata": {
            "tags": []
          },
          "execution_count": 164
        }
      ]
    },
    {
      "cell_type": "markdown",
      "metadata": {
        "id": "BQ5VhUrJothC",
        "colab_type": "text"
      },
      "source": [
        "### <a class=\"anchor\" id=\"Exploratory-Data-Analysis\">Part I : Exploratory Data Analysis</a>\n",
        "\n",
        "Use the dictionary and cells below to provide some insight into the descriptive statistics of the data.\n",
        "\n",
        "`1.` What is the distribution of how many articles a user interacts with in the dataset?  Provide a visual and descriptive statistics to assist with giving a look at the number of times each user interacts with an article.  "
      ]
    },
    {
      "cell_type": "code",
      "metadata": {
        "id": "mFsYBynhothC",
        "colab_type": "code",
        "colab": {}
      },
      "source": [
        "# Count unique users and interaction frequency\n",
        "\n",
        "df['user_id'] = df[ df['email'].isnull() == False].groupby('email').ngroup()\n",
        "\n",
        "unique_user, interaction_freq = np.unique(df['user_id'], return_counts=True)"
      ],
      "execution_count": 0,
      "outputs": []
    },
    {
      "cell_type": "code",
      "metadata": {
        "id": "N5bInciAG626",
        "colab_type": "code",
        "colab": {}
      },
      "source": [
        "df = df.drop('user_id', axis=1)"
      ],
      "execution_count": 0,
      "outputs": []
    },
    {
      "cell_type": "code",
      "metadata": {
        "id": "dfdVq6h0othG",
        "colab_type": "code",
        "outputId": "2010c852-5142-412b-8273-5b011077bf87",
        "colab": {
          "base_uri": "https://localhost:8080/",
          "height": 390
        }
      },
      "source": [
        "#Distribution Plot of User-Article Iteraction Frequency\n",
        "plt.figure(figsize = (18,6));\n",
        "plt.title('Distribution of User-Article Iteraction Frequency')\n",
        "sns.distplot(interaction_freq);\n",
        "plt.show()"
      ],
      "execution_count": 0,
      "outputs": [
        {
          "output_type": "display_data",
          "data": {
            "image/png": "[encoded data removed]",
            "text/plain": [
              "<Figure size 1296x432 with 1 Axes>"
            ]
          },
          "metadata": {
            "tags": [],
            "needs_background": "light"
          }
        }
      ]
    },
    {
      "cell_type": "code",
      "metadata": {
        "id": "fGMuacBOyAX4",
        "colab_type": "code",
        "outputId": "4a4ff90f-2e5e-4a29-f962-3ba98669737a",
        "colab": {
          "base_uri": "https://localhost:8080/",
          "height": 35
        }
      },
      "source": [
        "# Maximum number ob user-article interaction by any 1 user\n",
        "interaction_freq.max()"
      ],
      "execution_count": 0,
      "outputs": [
        {
          "output_type": "execute_result",
          "data": {
            "text/plain": [
              "364"
            ]
          },
          "metadata": {
            "tags": []
          },
          "execution_count": 23
        }
      ]
    },
    {
      "cell_type": "code",
      "metadata": {
        "id": "s3iY8ACo0BV-",
        "colab_type": "code",
        "outputId": "c0be2207-39ad-4e46-843d-b318c5738f1c",
        "colab": {
          "base_uri": "https://localhost:8080/",
          "height": 35
        }
      },
      "source": [
        "# Median of user-article interaction\n",
        "np.median(interaction_freq)"
      ],
      "execution_count": 0,
      "outputs": [
        {
          "output_type": "execute_result",
          "data": {
            "text/plain": [
              "3.0"
            ]
          },
          "metadata": {
            "tags": []
          },
          "execution_count": 24
        }
      ]
    },
    {
      "cell_type": "code",
      "metadata": {
        "id": "OJfmP3cNothJ",
        "colab_type": "code",
        "colab": {}
      },
      "source": [
        "# Fill in the median and maximum number of user_article interactios below\n",
        "\n",
        "median_val = 3 # 50% of individuals interact with ____ number of articles or fewer.\n",
        "max_views_by_user = 364 # The maximum number of user-article interactions by any 1 user is ______."
      ],
      "execution_count": 0,
      "outputs": []
    },
    {
      "cell_type": "markdown",
      "metadata": {
        "id": "ZVWFn_BJothM",
        "colab_type": "text"
      },
      "source": [
        "`2.` Explore and remove duplicate articles from the **df_content** dataframe.  "
      ]
    },
    {
      "cell_type": "code",
      "metadata": {
        "id": "JHdNn_cUothM",
        "colab_type": "code",
        "outputId": "8c3c45c0-47d9-416f-b752-b34fab365a41",
        "colab": {
          "base_uri": "https://localhost:8080/",
          "height": 35
        }
      },
      "source": [
        "# Find and explore duplicate articles\n",
        "n_duplicates = df_content.shape[0] - df_content['article_id'].nunique()\n",
        "print('Number of duplicate articles in the dataset: {}'.format(n_duplicates))"
      ],
      "execution_count": 0,
      "outputs": [
        {
          "output_type": "stream",
          "text": [
            "Number of duplicate articles in the dataset: 5\n"
          ],
          "name": "stdout"
        }
      ]
    },
    {
      "cell_type": "code",
      "metadata": {
        "id": "UEJOSdpxothP",
        "colab_type": "code",
        "colab": {}
      },
      "source": [
        "# Remove any rows that have the same article_id - only keep the first"
      ],
      "execution_count": 0,
      "outputs": []
    },
    {
      "cell_type": "code",
      "metadata": {
        "id": "MZJF0pCc1ZSX",
        "colab_type": "code",
        "outputId": "8f37d44d-6a7e-4763-c985-4f9939a53dbb",
        "colab": {
          "base_uri": "https://localhost:8080/",
          "height": 35
        }
      },
      "source": [
        "# Duplicated article_ids\n",
        "unique_article, article_freq = np.unique(df_content['article_id'], return_counts=True)\n",
        "np.where(article_freq == 2)"
      ],
      "execution_count": 0,
      "outputs": [
        {
          "output_type": "execute_result",
          "data": {
            "text/plain": [
              "(array([ 50, 221, 232, 398, 577]),)"
            ]
          },
          "metadata": {
            "tags": []
          },
          "execution_count": 28
        }
      ]
    },
    {
      "cell_type": "code",
      "metadata": {
        "id": "x-mItRBb4Cvm",
        "colab_type": "code",
        "colab": {}
      },
      "source": [
        "df_content = df_content.drop_duplicates(subset='article_id', keep='first')"
      ],
      "execution_count": 0,
      "outputs": []
    },
    {
      "cell_type": "code",
      "metadata": {
        "id": "iNa6QXMl6_NV",
        "colab_type": "code",
        "outputId": "db90e083-98ca-4951-b7cc-688b69fab70c",
        "colab": {
          "base_uri": "https://localhost:8080/",
          "height": 35
        }
      },
      "source": [
        "# Check if all the duplicates where removed\n",
        "n_duplicates_new = df_content.shape[0] - df_content['article_id'].nunique()\n",
        "print('Number of duplicate articles in the dataset: {}'.format(n_duplicates_new))"
      ],
      "execution_count": 0,
      "outputs": [
        {
          "output_type": "stream",
          "text": [
            "Number of duplicate articles in the dataset: 0\n"
          ],
          "name": "stdout"
        }
      ]
    },
    {
      "cell_type": "markdown",
      "metadata": {
        "id": "9gD5sq1yothR",
        "colab_type": "text"
      },
      "source": [
        "`3.` Use the cells below to find:\n",
        "\n",
        "**a.** The number of unique articles that have an interaction with a user.  \n",
        "**b.** The number of unique articles in the dataset (whether they have any interactions or not).<br>\n",
        "**c.** The number of unique users in the dataset. (excluding null values) <br>\n",
        "**d.** The number of user-article interactions in the dataset."
      ]
    },
    {
      "cell_type": "code",
      "metadata": {
        "id": "GPAD1eUpothS",
        "colab_type": "code",
        "outputId": "82369028-3412-431c-d2e4-cfa61d72cb31",
        "colab": {
          "base_uri": "https://localhost:8080/",
          "height": 35
        }
      },
      "source": [
        "# Number of articles with at leats one interaction\n",
        "df['article_id'].nunique()\n"
      ],
      "execution_count": 0,
      "outputs": [
        {
          "output_type": "execute_result",
          "data": {
            "text/plain": [
              "714"
            ]
          },
          "metadata": {
            "tags": []
          },
          "execution_count": 31
        }
      ]
    },
    {
      "cell_type": "code",
      "metadata": {
        "id": "vj9ioBBU_RhL",
        "colab_type": "code",
        "outputId": "6bff1b49-6ca2-4f98-e463-3115022c2ed4",
        "colab": {
          "base_uri": "https://localhost:8080/",
          "height": 35
        }
      },
      "source": [
        "# Number of unique articles\n",
        "df_content['article_id'].nunique()"
      ],
      "execution_count": 0,
      "outputs": [
        {
          "output_type": "execute_result",
          "data": {
            "text/plain": [
              "1051"
            ]
          },
          "metadata": {
            "tags": []
          },
          "execution_count": 32
        }
      ]
    },
    {
      "cell_type": "code",
      "metadata": {
        "id": "sLG9I1BD_aqR",
        "colab_type": "code",
        "outputId": "3e2b96f4-393c-4c4a-dbcf-66556de1156f",
        "colab": {
          "base_uri": "https://localhost:8080/",
          "height": 35
        }
      },
      "source": [
        "# Number of users with null values\n",
        "len((df[df['email'].isnull() == True]).index)"
      ],
      "execution_count": 0,
      "outputs": [
        {
          "output_type": "execute_result",
          "data": {
            "text/plain": [
              "17"
            ]
          },
          "metadata": {
            "tags": []
          },
          "execution_count": 33
        }
      ]
    },
    {
      "cell_type": "code",
      "metadata": {
        "id": "FnLhd7tABq8M",
        "colab_type": "code",
        "outputId": "5512853f-7849-491d-a2fb-777a20d9cd64",
        "colab": {
          "base_uri": "https://localhost:8080/",
          "height": 35
        }
      },
      "source": [
        "# Number of unique users\n",
        "df[df['email'].isnull() == False]['email'].nunique()"
      ],
      "execution_count": 0,
      "outputs": [
        {
          "output_type": "execute_result",
          "data": {
            "text/plain": [
              "5148"
            ]
          },
          "metadata": {
            "tags": []
          },
          "execution_count": 34
        }
      ]
    },
    {
      "cell_type": "code",
      "metadata": {
        "id": "KPcDwmw9DAoD",
        "colab_type": "code",
        "outputId": "89e7e3f3-aa8a-4cea-f79e-62e3e941f8c6",
        "colab": {
          "base_uri": "https://localhost:8080/",
          "height": 35
        }
      },
      "source": [
        "# Number of user-article interactions\n",
        "df.shape[0]"
      ],
      "execution_count": 0,
      "outputs": [
        {
          "output_type": "execute_result",
          "data": {
            "text/plain": [
              "45993"
            ]
          },
          "metadata": {
            "tags": []
          },
          "execution_count": 35
        }
      ]
    },
    {
      "cell_type": "code",
      "metadata": {
        "id": "VRJ7NEl1othU",
        "colab_type": "code",
        "colab": {}
      },
      "source": [
        "unique_articles = 714 # The number of unique articles that have at least one interaction\n",
        "total_articles = 1051 # The number of unique articles on the IBM platform\n",
        "unique_users = 5148 # The number of unique users\n",
        "user_article_interactions = 45993 # The number of user-article interactions"
      ],
      "execution_count": 0,
      "outputs": []
    },
    {
      "cell_type": "markdown",
      "metadata": {
        "id": "_EFvrFGLothW",
        "colab_type": "text"
      },
      "source": [
        "`4.` Use the cells below to find the most viewed **article_id**, as well as how often it was viewed.  After talking to the company leaders, the `email_mapper` function was deemed a reasonable way to map users to ids.  There were a small number of null values, and it was found that all of these null values likely belonged to a single user (which is how they are stored using the function below)."
      ]
    },
    {
      "cell_type": "code",
      "metadata": {
        "id": "y1c8bY73othX",
        "colab_type": "code",
        "outputId": "f2379dfc-b8b3-480b-8539-ea5fb81f504a",
        "colab": {
          "base_uri": "https://localhost:8080/",
          "height": 35
        }
      },
      "source": [
        "# How many time the most viewed article has been seen?\n",
        "unique_viewed_article, article_view_freq = np.unique(df['article_id'], return_counts=True)\n",
        "article_view_freq.max()"
      ],
      "execution_count": 0,
      "outputs": [
        {
          "output_type": "execute_result",
          "data": {
            "text/plain": [
              "937"
            ]
          },
          "metadata": {
            "tags": []
          },
          "execution_count": 37
        }
      ]
    },
    {
      "cell_type": "code",
      "metadata": {
        "id": "ppmfBaW1GCsT",
        "colab_type": "code",
        "outputId": "32c0c354-6f1c-4a02-9181-5d05a90c00c8",
        "colab": {
          "base_uri": "https://localhost:8080/",
          "height": 35
        }
      },
      "source": [
        "unique_viewed_article[np.where(article_view_freq == 937)]"
      ],
      "execution_count": 0,
      "outputs": [
        {
          "output_type": "execute_result",
          "data": {
            "text/plain": [
              "array([1429.])"
            ]
          },
          "metadata": {
            "tags": []
          },
          "execution_count": 38
        }
      ]
    },
    {
      "cell_type": "code",
      "metadata": {
        "id": "-3MmEBAsJVkx",
        "colab_type": "code",
        "outputId": "6d1857c5-454a-4811-8e5d-0a8b4f289041",
        "colab": {
          "base_uri": "https://localhost:8080/",
          "height": 390
        }
      },
      "source": [
        "#Distribution Plot of User-Article Iteraction Frequency\n",
        "plt.figure(figsize = (18,6));\n",
        "plt.title('Distribution of Iteraction per Article')\n",
        "sns.distplot(article_view_freq);\n",
        "plt.show()"
      ],
      "execution_count": 0,
      "outputs": [
        {
          "output_type": "display_data",
          "data": {
            "image/png": "[encoded data removed]",
            "text/plain": [
              "<Figure size 1296x432 with 1 Axes>"
            ]
          },
          "metadata": {
            "tags": [],
            "needs_background": "light"
          }
        }
      ]
    },
    {
      "cell_type": "code",
      "metadata": {
        "id": "ZF9JAuATothZ",
        "colab_type": "code",
        "colab": {}
      },
      "source": [
        "most_viewed_article_id = '1429.0' # The most viewed article in the dataset as a string with one value following the decimal \n",
        "max_views = 937 # The most viewed article in the dataset was viewed how many times?"
      ],
      "execution_count": 0,
      "outputs": []
    },
    {
      "cell_type": "code",
      "metadata": {
        "id": "yrMv5bmpothb",
        "colab_type": "code",
        "outputId": "7afb9c02-d0a7-43f7-c7f9-791ebd3f79a6",
        "colab": {
          "base_uri": "https://localhost:8080/",
          "height": 198
        }
      },
      "source": [
        "## No need to change the code here - this will be helpful for later parts of the notebook\n",
        "# Run this cell to map the user email to a user_id column and remove the email column\n",
        "\n",
        "def email_mapper():\n",
        "    coded_dict = dict()\n",
        "    cter = 1\n",
        "    email_encoded = []\n",
        "    \n",
        "    for val in df['email']:\n",
        "        if val not in coded_dict:\n",
        "            coded_dict[val] = cter\n",
        "            cter+=1\n",
        "        \n",
        "        email_encoded.append(coded_dict[val])\n",
        "    return email_encoded\n",
        "\n",
        "email_encoded = email_mapper()\n",
        "del df['email']\n",
        "df['user_id'] = email_encoded\n",
        "\n",
        "# show header\n",
        "df.head()"
      ],
      "execution_count": 9,
      "outputs": [
        {
          "output_type": "execute_result",
          "data": {
            "text/html": [
              "<div>\n",
              "<style scoped>\n",
              "    .dataframe tbody tr th:only-of-type {\n",
              "        vertical-align: middle;\n",
              "    }\n",
              "\n",
              "    .dataframe tbody tr th {\n",
              "        vertical-align: top;\n",
              "    }\n",
              "\n",
              "    .dataframe thead th {\n",
              "        text-align: right;\n",
              "    }\n",
              "</style>\n",
              "<table border=\"1\" class=\"dataframe\">\n",
              "  <thead>\n",
              "    <tr style=\"text-align: right;\">\n",
              "      <th></th>\n",
              "      <th>article_id</th>\n",
              "      <th>title</th>\n",
              "      <th>user_id</th>\n",
              "    </tr>\n",
              "  </thead>\n",
              "  <tbody>\n",
              "    <tr>\n",
              "      <th>0</th>\n",
              "      <td>1430.0</td>\n",
              "      <td>using pixiedust for fast, flexible, and easier...</td>\n",
              "      <td>1</td>\n",
              "    </tr>\n",
              "    <tr>\n",
              "      <th>1</th>\n",
              "      <td>1314.0</td>\n",
              "      <td>healthcare python streaming application demo</td>\n",
              "      <td>2</td>\n",
              "    </tr>\n",
              "    <tr>\n",
              "      <th>2</th>\n",
              "      <td>1429.0</td>\n",
              "      <td>use deep learning for image classification</td>\n",
              "      <td>3</td>\n",
              "    </tr>\n",
              "    <tr>\n",
              "      <th>3</th>\n",
              "      <td>1338.0</td>\n",
              "      <td>ml optimization using cognitive assistant</td>\n",
              "      <td>4</td>\n",
              "    </tr>\n",
              "    <tr>\n",
              "      <th>4</th>\n",
              "      <td>1276.0</td>\n",
              "      <td>deploy your python model as a restful api</td>\n",
              "      <td>5</td>\n",
              "    </tr>\n",
              "  </tbody>\n",
              "</table>\n",
              "</div>"
            ],
            "text/plain": [
              "   article_id                                              title  user_id\n",
              "0      1430.0  using pixiedust for fast, flexible, and easier...        1\n",
              "1      1314.0       healthcare python streaming application demo        2\n",
              "2      1429.0         use deep learning for image classification        3\n",
              "3      1338.0          ml optimization using cognitive assistant        4\n",
              "4      1276.0          deploy your python model as a restful api        5"
            ]
          },
          "metadata": {
            "tags": []
          },
          "execution_count": 9
        }
      ]
    },
    {
      "cell_type": "code",
      "metadata": {
        "id": "dbInMkUGothe",
        "colab_type": "code",
        "outputId": "08a7280d-9a14-44eb-c6fe-d47954a30515",
        "colab": {
          "base_uri": "https://localhost:8080/",
          "height": 35
        }
      },
      "source": [
        "## If you stored all your results in the variable names above, \n",
        "## you shouldn't need to change anything in this cell\n",
        "\n",
        "sol_1_dict = {\n",
        "    '`50% of individuals have _____ or fewer interactions.`': median_val,\n",
        "    '`The total number of user-article interactions in the dataset is ______.`': user_article_interactions,\n",
        "    '`The maximum number of user-article interactions by any 1 user is ______.`': max_views_by_user,\n",
        "    '`The most viewed article in the dataset was viewed _____ times.`': max_views,\n",
        "    '`The article_id of the most viewed article is ______.`': most_viewed_article_id,\n",
        "    '`The number of unique articles that have at least 1 rating ______.`': unique_articles,\n",
        "    '`The number of unique users in the dataset is ______`': unique_users,\n",
        "    '`The number of unique articles on the IBM platform`': total_articles\n",
        "}\n",
        "\n",
        "# Test your dictionary against the solution\n",
        "t.sol_1_test(sol_1_dict)"
      ],
      "execution_count": 0,
      "outputs": [
        {
          "output_type": "stream",
          "text": [
            "It looks like you have everything right here! Nice job!\n"
          ],
          "name": "stdout"
        }
      ]
    },
    {
      "cell_type": "markdown",
      "metadata": {
        "id": "y-e6_fCNothg",
        "colab_type": "text"
      },
      "source": [
        "### <a class=\"anchor\" id=\"Rank\">Part II: Rank-Based Recommendations</a>\n",
        "\n",
        "Unlike in the earlier lessons, we don't actually have ratings for whether a user liked an article or not.  We only know that a user has interacted with an article.  In these cases, the popularity of an article can really only be based on how often an article was interacted with.\n",
        "\n",
        "`1.` Fill in the function below to return the **n** top articles ordered with most interactions as the top. Test your function using the tests below."
      ]
    },
    {
      "cell_type": "code",
      "metadata": {
        "id": "iDLReiJ-othh",
        "colab_type": "code",
        "colab": {}
      },
      "source": [
        "def get_top_articles(n, df=df):\n",
        "    '''\n",
        "    INPUT:\n",
        "    n - (int) the number of top articles to return\n",
        "    df - (pandas dataframe) df as defined at the top of the notebook \n",
        "    \n",
        "    OUTPUT:\n",
        "    top_articles - (list) A list of the top 'n' article titles \n",
        "    \n",
        "    '''\n",
        "\n",
        "    # Get unique articles and how many times they were viewed\n",
        "    unique_viewed_article, article_view_freq = np.unique(df['article_id'], return_counts=True)\n",
        "\n",
        "    # Create a Dataframe containing |article_id|article_views|\n",
        "    article_df = pd.DataFrame({'article_id':unique_viewed_article, 'article_views':article_view_freq })\n",
        "    # Sort article by number of views \n",
        "    article_df = article_df.sort_values('article_views', ascending=False)\n",
        "\n",
        "    ids = article_df['article_id'][0:n].reset_index(drop=True)\n",
        "\n",
        "    top_articles = []\n",
        "    for i in range(len(ids)):\n",
        "      title = df.loc[df.article_id==ids[i],'title'].reset_index(drop=True)[0]\n",
        "      top_articles.append(str(title))  \n",
        "    \n",
        "    return top_articles # Return the top article titles from df (not df_content)\n",
        "\n",
        "def get_top_article_ids(n, df=df):\n",
        "    '''\n",
        "    INPUT:\n",
        "    n - (int) the number of top articles to return\n",
        "    df - (pandas dataframe) df as defined at the top of the notebook \n",
        "    \n",
        "    OUTPUT:\n",
        "    top_articles - (list) A list of the top 'n' article titles \n",
        "    \n",
        "    '''\n",
        "    # Get unique articles and how many times they were viewed\n",
        "    unique_viewed_article, article_view_freq = np.unique(df['article_id'], return_counts=True)\n",
        "\n",
        "    # Create a Dataframe containing |article_id|article_views|\n",
        "    article_df = pd.DataFrame({'article_id':unique_viewed_article, 'article_views':article_view_freq })\n",
        "    # Sort article by number of views \n",
        "    article_df = article_df.sort_values('article_views', ascending=False)\n",
        "\n",
        "    if n > article_df.shape[0]:\n",
        "      n = article_df.shape[0]\n",
        "\n",
        "    top_articles = article_df['article_id'][0:n]\n",
        "\n",
        " \n",
        "    return top_articles # Return the top article ids"
      ],
      "execution_count": 0,
      "outputs": []
    },
    {
      "cell_type": "code",
      "metadata": {
        "id": "g3mjj6gdothj",
        "colab_type": "code",
        "outputId": "6b9bb1de-2277-4ff1-a235-897d085ee546",
        "colab": {
          "base_uri": "https://localhost:8080/",
          "height": 255
        }
      },
      "source": [
        "print(get_top_articles(10))\n",
        "print(get_top_article_ids(10))"
      ],
      "execution_count": 0,
      "outputs": [
        {
          "output_type": "stream",
          "text": [
            "['use deep learning for image classification', 'insights from new york car accident reports', 'visualize car data with brunel', 'use xgboost, scikit-learn & ibm watson machine learning apis', 'predicting churn with the spss random tree algorithm', 'healthcare python streaming application demo', 'finding optimal locations of new store using decision optimization', 'apache spark lab, part 1: basic concepts', 'analyze energy consumption in buildings', 'gosales transactions for logistic regression model']\n",
            "699    1429.0\n",
            "625    1330.0\n",
            "701    1431.0\n",
            "697    1427.0\n",
            "652    1364.0\n",
            "614    1314.0\n",
            "600    1293.0\n",
            "526    1170.0\n",
            "518    1162.0\n",
            "608    1304.0\n",
            "Name: article_id, dtype: float64\n"
          ],
          "name": "stdout"
        }
      ]
    },
    {
      "cell_type": "code",
      "metadata": {
        "id": "nwyPSmOGothm",
        "colab_type": "code",
        "outputId": "3ec86118-13e9-4b43-e775-e171fcfaa719",
        "colab": {
          "base_uri": "https://localhost:8080/",
          "height": 72
        }
      },
      "source": [
        "# Test your function by returning the top 5, 10, and 20 articles\n",
        "top_5 = get_top_articles(5)\n",
        "top_10 = get_top_articles(10)\n",
        "top_20 = get_top_articles(20)\n",
        "\n",
        "# Test each of your three lists from above\n",
        "t.sol_2_test(get_top_articles)"
      ],
      "execution_count": 0,
      "outputs": [
        {
          "output_type": "stream",
          "text": [
            "Your top_5 looks like the solution list! Nice job.\n",
            "Your top_10 looks like the solution list! Nice job.\n",
            "Your top_20 looks like the solution list! Nice job.\n"
          ],
          "name": "stdout"
        }
      ]
    },
    {
      "cell_type": "markdown",
      "metadata": {
        "id": "OfwM31fsotho",
        "colab_type": "text"
      },
      "source": [
        "### <a class=\"anchor\" id=\"User-User\">Part III: User-User Based Collaborative Filtering</a>\n",
        "\n",
        "\n",
        "`1.` Use the function below to reformat the **df** dataframe to be shaped with users as the rows and articles as the columns.  \n",
        "\n",
        "* Each **user** should only appear in each **row** once.\n",
        "\n",
        "\n",
        "* Each **article** should only show up in one **column**.  \n",
        "\n",
        "\n",
        "* **If a user has interacted with an article, then place a 1 where the user-row meets for that article-column**.  It does not matter how many times a user has interacted with the article, all entries where a user has interacted with an article should be a 1.  \n",
        "\n",
        "\n",
        "* **If a user has not interacted with an item, then place a zero where the user-row meets for that article-column**. \n",
        "\n",
        "Use the tests to make sure the basic structure of your matrix matches what is expected by the solution."
      ]
    },
    {
      "cell_type": "code",
      "metadata": {
        "id": "x-SJ1Ux5otho",
        "colab_type": "code",
        "colab": {}
      },
      "source": [
        "# create the user-article matrix with 1's and 0's\n",
        "\n",
        "def create_user_item_matrix(df):\n",
        "    '''\n",
        "    INPUT:\n",
        "    df - pandas dataframe with article_id, title, user_id columns\n",
        "    \n",
        "    OUTPUT:\n",
        "    user_item - user item matrix \n",
        "    \n",
        "    Description:\n",
        "    Return a matrix with user ids as rows and article ids on the columns with 1 values where a user interacted with \n",
        "    an article and a 0 otherwise\n",
        "    '''\n",
        "    user_item = df.groupby(['user_id','article_id']).max().unstack()\n",
        "    user_item = (user_item.notnull()).astype('int')\n",
        "    \n",
        "    return user_item # return the user_item matrix \n",
        "\n",
        "user_item = create_user_item_matrix(df)"
      ],
      "execution_count": 0,
      "outputs": []
    },
    {
      "cell_type": "code",
      "metadata": {
        "id": "ZTm7wxkxothr",
        "colab_type": "code",
        "outputId": "be0b27aa-dc5e-4739-c75d-be1f901299b2",
        "colab": {
          "base_uri": "https://localhost:8080/",
          "height": 35
        }
      },
      "source": [
        "## Tests: You should just need to run this cell.  Don't change the code.\n",
        "assert user_item.shape[0] == 5149, \"Oops!  The number of users in the user-article matrix doesn't look right.\"\n",
        "assert user_item.shape[1] == 714, \"Oops!  The number of articles in the user-article matrix doesn't look right.\"\n",
        "assert user_item.sum(axis=1)[1] == 36, \"Oops!  The number of articles seen by user 1 doesn't look right.\"\n",
        "print(\"You have passed our quick tests!  Please proceed!\")"
      ],
      "execution_count": 0,
      "outputs": [
        {
          "output_type": "stream",
          "text": [
            "You have passed our quick tests!  Please proceed!\n"
          ],
          "name": "stdout"
        }
      ]
    },
    {
      "cell_type": "markdown",
      "metadata": {
        "id": "cD-e0hDIoths",
        "colab_type": "text"
      },
      "source": [
        "`2.` Complete the function below which should take a user_id and provide an ordered list of the most similar users to that user (from most similar to least similar).  The returned result should not contain the provided user_id, as we know that each user is similar to him/herself. Because the results for each user here are binary, it (perhaps) makes sense to compute similarity as the dot product of two users. \n",
        "\n",
        "Use the tests to test your function."
      ]
    },
    {
      "cell_type": "code",
      "metadata": {
        "id": "X1hZWw7qotht",
        "colab_type": "code",
        "colab": {}
      },
      "source": [
        "def find_similar_users(user_id, user_item=user_item):\n",
        "    '''\n",
        "    INPUT:\n",
        "    user_id - (int) a user_id\n",
        "    user_item - (pandas dataframe) matrix of users by articles: \n",
        "                1's when a user has interacted with an article, 0 otherwise\n",
        "    \n",
        "    OUTPUT:\n",
        "    similar_users - (list) an ordered list where the closest users (largest dot product users)\n",
        "                    are listed first\n",
        "    \n",
        "    Description:\n",
        "    Computes the similarity of every pair of users based on the dot product\n",
        "    Returns an ordered\n",
        "    \n",
        "    '''\n",
        "    # compute similarity of each user to the provided user\n",
        "    dot_prod = user_item.dot(np.transpose(user_item))\n",
        "\n",
        "    users_list = user_item.index\n",
        "    df_dot_prod = pd.DataFrame({'user_id': users_list, 'dot_product' : dot_prod[user_id][:]})\n",
        "\n",
        "    # remove the own user's id\n",
        "    df_dot_prod.drop(df_dot_prod.index[user_id-1], axis=0, inplace=True)\n",
        "\n",
        "    # sort by similarity\n",
        "    df_dot_prod = df_dot_prod.sort_values(by='dot_product', ascending=False).reset_index(drop=True)\n",
        "\n",
        "    # create list of just the ids\n",
        "    most_similar_users = df_dot_prod['user_id']\n",
        "   \n",
        "    \n",
        "       \n",
        "    return most_similar_users # return a list of the users in order from most to least similar\n",
        "        "
      ],
      "execution_count": 0,
      "outputs": []
    },
    {
      "cell_type": "code",
      "metadata": {
        "id": "vpaotZydothv",
        "colab_type": "code",
        "outputId": "2a1f5b0a-9c6a-4151-913c-a84b0b7603a6",
        "colab": {
          "base_uri": "https://localhost:8080/",
          "height": 399
        }
      },
      "source": [
        "# Do a spot check of your function\n",
        "print(\"The 10 most similar users to user 1 are: {}\".format(find_similar_users(1)[:10]))\n",
        "print(\"The 5 most similar users to user 3933 are: {}\".format(find_similar_users(3933)[:5]))\n",
        "print(\"The 3 most similar users to user 46 are: {}\".format(find_similar_users(46)[:3]))"
      ],
      "execution_count": 0,
      "outputs": [
        {
          "output_type": "stream",
          "text": [
            "The 10 most similar users to user 1 are: 0    3933\n",
            "1      23\n",
            "2    3782\n",
            "3     203\n",
            "4    4459\n",
            "5    3870\n",
            "6     131\n",
            "7      46\n",
            "8    4201\n",
            "9     395\n",
            "Name: user_id, dtype: int64\n",
            "The 5 most similar users to user 3933 are: 0       1\n",
            "1      23\n",
            "2    3782\n",
            "3    4459\n",
            "4     203\n",
            "Name: user_id, dtype: int64\n",
            "The 3 most similar users to user 46 are: 0    4201\n",
            "1      23\n",
            "2    3782\n",
            "Name: user_id, dtype: int64\n"
          ],
          "name": "stdout"
        }
      ]
    },
    {
      "cell_type": "markdown",
      "metadata": {
        "id": "8IeDJlPlothx",
        "colab_type": "text"
      },
      "source": [
        "`3.` Now that you have a function that provides the most similar users to each user, you will want to use these users to find articles you can recommend.  Complete the functions below to return the articles you would recommend to each user. "
      ]
    },
    {
      "cell_type": "code",
      "metadata": {
        "id": "LUXkG6Uqothx",
        "colab_type": "code",
        "colab": {}
      },
      "source": [
        "def get_article_names(article_ids, df=df):\n",
        "    '''\n",
        "    INPUT:\n",
        "    article_ids - (list) a list of article ids\n",
        "    df - (pandas dataframe) df as defined at the top of the notebook\n",
        "    \n",
        "    OUTPUT:\n",
        "    article_names - (list) a list of article names associated with the list of article ids \n",
        "                    (this is identified by the title column)\n",
        "    '''\n",
        "    # convert article_ids into floats\n",
        "    article_ids = list(map(float, article_ids))\n",
        "\n",
        "    # iterate throught article_ids to get the article titles\n",
        "    article_names = []\n",
        "    for artc in article_ids:\n",
        "      title = df.loc[df.article_id == artc,'title'].reset_index(drop=True)[0]\n",
        "      article_names.append(title)\n",
        "\n",
        "    \n",
        "    return article_names # Return the article names associated with list of article ids\n",
        "\n",
        "\n",
        "def get_user_articles(user_id, user_item=user_item):\n",
        "    '''\n",
        "    INPUT:\n",
        "    user_id - (int) a user id\n",
        "    user_item - (pandas dataframe) matrix of users by articles: \n",
        "                1's when a user has interacted with an article, 0 otherwise\n",
        "    \n",
        "    OUTPUT:\n",
        "    article_ids - (list) a list of the article ids seen by the user\n",
        "    article_names - (list) a list of article names associated with the list of article ids \n",
        "                    (this is identified by the doc_full_name column in df_content)\n",
        "    \n",
        "    Description:\n",
        "    Provides a list of the article_ids and article titles that have been seen by a user\n",
        "    '''\n",
        "    # Create a list of article indexes\n",
        "    article_index_list = user_item.columns\n",
        "\n",
        "    article_list = []\n",
        "    for i in range(len(article_index_list)):\n",
        "      article_list.append(article_index_list[i][1])\n",
        "\n",
        "    # List of articles user_id have interacted with\n",
        "    user_itr = np.where(user_item.iloc[user_id-1] == 1)\n",
        "\n",
        "    article_ids = []\n",
        "    for i in range(len(user_itr[0])):\n",
        "      article_ids.append(article_list[user_itr[0][i]])\n",
        "\n",
        "    article_ids = list(map(str, article_ids))\n",
        "\n",
        "    # Names of the articles user_id have interacted with\n",
        "    article_names = get_article_names(article_ids)    \n",
        "    \n",
        "    return article_ids, article_names # return the ids and names\n",
        "\n",
        "\n",
        "def user_user_recs(user_id, m=10):\n",
        "    '''\n",
        "    INPUT:\n",
        "    user_id - (int) a user id\n",
        "    m - (int) the number of recommendations you want for the user\n",
        "    \n",
        "    OUTPUT:\n",
        "    recs - (list) a list of recommendations for the user\n",
        "    \n",
        "    Description:\n",
        "    Loops through the users based on closeness to the input user_id\n",
        "    For each user - finds articles the user hasn't seen before and provides them as recs\n",
        "    Does this until m recommendations are found\n",
        "    \n",
        "    Notes:\n",
        "    Users who are the same closeness are chosen arbitrarily as the 'next' user\n",
        "    \n",
        "    For the user where the number of recommended articles starts below m \n",
        "    and ends exceeding m, the last items are chosen arbitrarily\n",
        "    \n",
        "    '''\n",
        "    # List of most similar users\n",
        "    most_similar_users = find_similar_users(user_id)\n",
        "    \n",
        "    # Articles the user of interest have interacted with\n",
        "    user_articles_ids, user_articles_titles = get_user_articles(user_id)\n",
        "\n",
        "    # Iterate through the list of most similar users to get recommendations\n",
        "\n",
        "    recs = []\n",
        "    for user in most_similar_users:\n",
        "      similar_user_articles_id, similar_user_articles_title = get_user_articles(user)\n",
        "      diff_articles = np.setdiff1d(similar_user_articles_title,user_articles_titles)\n",
        "      for article in diff_articles:\n",
        "        if article not in recs:\n",
        "          if len(recs) >= m:\n",
        "            break\n",
        "          else:\n",
        "            recs.append(article)   \n",
        "      if len(recs) > m:\n",
        "        break\n",
        "\n",
        "    \n",
        "    return recs # return your recommendations for this user_id    "
      ],
      "execution_count": 0,
      "outputs": []
    },
    {
      "cell_type": "code",
      "metadata": {
        "id": "baHxPGW6othz",
        "colab_type": "code",
        "outputId": "98eac4b8-dc3a-483c-a6e8-378025cd958b",
        "colab": {
          "base_uri": "https://localhost:8080/",
          "height": 199
        }
      },
      "source": [
        "# Check Results\n",
        "user_user_recs(1, 10) # Return 10 recommendations for user 1"
      ],
      "execution_count": 0,
      "outputs": [
        {
          "output_type": "execute_result",
          "data": {
            "text/plain": [
              "['1448    i ranked every intro to data science course on...\\nName: title, dtype: object',\n",
              " '5 practical use cases of social network analytics: going beyond facebook and twitter',\n",
              " '502    forgetting the past to learn the future: long ...\\nName: title, dtype: object',\n",
              " '520    using notebooks with pixiedust for fast, flexi...\\nName: title, dtype: object',\n",
              " '54174    detect potentially malfunctioning sensors in r...\\nName: title, dtype: object',\n",
              " '56594    lifelong (machine) learning: how automation ca...\\nName: title, dtype: object',\n",
              " 'a dynamic duo – inside machine learning – medium',\n",
              " 'a tensorflow regression model to predict house values',\n",
              " 'accelerate your workflow with dsx',\n",
              " 'airbnb data for analytics: mallorca reviews']"
            ]
          },
          "metadata": {
            "tags": []
          },
          "execution_count": 196
        }
      ]
    },
    {
      "cell_type": "code",
      "metadata": {
        "id": "vvygUi29oth2",
        "colab_type": "code",
        "outputId": "695711ba-e719-43da-d738-722d882f802f",
        "colab": {
          "base_uri": "https://localhost:8080/",
          "height": 35
        }
      },
      "source": [
        "# Test your functions here - No need to change this code - just run this cell\n",
        "assert set(get_article_names(['1024.0', '1176.0', '1305.0', '1314.0', '1422.0', '1427.0'])) == set(['using deep learning to reconstruct high-resolution audio', 'build a python app on the streaming analytics service', 'gosales transactions for naive bayes model', 'healthcare python streaming application demo', 'use r dataframes & ibm watson natural language understanding', 'use xgboost, scikit-learn & ibm watson machine learning apis']), \"Oops! Your the get_article_names function doesn't work quite how we expect.\"\n",
        "assert set(get_article_names(['1320.0', '232.0', '844.0'])) == set(['housing (2015): united states demographic measures','self-service data preparation with ibm data refinery','use the cloudant-spark connector in python notebook']), \"Oops! Your the get_article_names function doesn't work quite how we expect.\"\n",
        "assert set(get_user_articles(20)[0]) == set(['1320.0', '232.0', '844.0'])\n",
        "assert set(get_user_articles(20)[1]) == set(['housing (2015): united states demographic measures', 'self-service data preparation with ibm data refinery','use the cloudant-spark connector in python notebook'])\n",
        "assert set(get_user_articles(2)[0]) == set(['1024.0', '1176.0', '1305.0', '1314.0', '1422.0', '1427.0'])\n",
        "assert set(get_user_articles(2)[1]) == set(['using deep learning to reconstruct high-resolution audio', 'build a python app on the streaming analytics service', 'gosales transactions for naive bayes model', 'healthcare python streaming application demo', 'use r dataframes & ibm watson natural language understanding', 'use xgboost, scikit-learn & ibm watson machine learning apis'])\n",
        "print(\"If this is all you see, you passed all of our tests!  Nice job!\")"
      ],
      "execution_count": 0,
      "outputs": [
        {
          "output_type": "stream",
          "text": [
            "If this is all you see, you passed all of our tests!  Nice job!\n"
          ],
          "name": "stdout"
        }
      ]
    },
    {
      "cell_type": "markdown",
      "metadata": {
        "id": "PvnDki9Zoth5",
        "colab_type": "text"
      },
      "source": [
        "`4.` Now we are going to improve the consistency of the **user_user_recs** function from above.  \n",
        "\n",
        "* Instead of arbitrarily choosing when we obtain users who are all the same closeness to a given user - choose the users that have the most total article interactions before choosing those with fewer article interactions.\n",
        "\n",
        "\n",
        "* Instead of arbitrarily choosing articles from the user where the number of recommended articles starts below m and ends exceeding m, choose articles with the articles with the most total interactions before choosing those with fewer total interactions. This ranking should be  what would be obtained from the **top_articles** function you wrote earlier."
      ]
    },
    {
      "cell_type": "code",
      "metadata": {
        "id": "ouERSp6Aoth5",
        "colab_type": "code",
        "colab": {}
      },
      "source": [
        "def get_top_sorted_users(user_id, df=df, user_item=user_item):\n",
        "    '''\n",
        "    INPUT:\n",
        "    user_id - (int)\n",
        "    df - (pandas dataframe) df as defined at the top of the notebook \n",
        "    user_item - (pandas dataframe) matrix of users by articles: \n",
        "            1's when a user has interacted with an article, 0 otherwise\n",
        "    \n",
        "            \n",
        "    OUTPUT:\n",
        "    neighbors_df - (pandas dataframe) a dataframe with:\n",
        "                    neighbor_id - is a neighbor user_id\n",
        "                    similarity - measure of the similarity of each user to the provided user_id\n",
        "                    num_interactions - the number of articles viewed by the user - if a u\n",
        "                    \n",
        "    Other Details - sort the neighbors_df by the similarity and then by number of interactions where \n",
        "                    highest of each is higher in the dataframe\n",
        "     \n",
        "    '''\n",
        "    # compute similarity of each user to the provided user\n",
        "    dot_prod = user_item.dot(np.transpose(user_item))\n",
        "\n",
        "    # Create a dataframe with neighbor_id | similarity\n",
        "    users_list = user_item.index\n",
        "    neighbors_df = pd.DataFrame({'neighbor_id': users_list, 'similarity' : dot_prod[user_id][:]})\n",
        "\n",
        "    # remove the own user's id\n",
        "    neighbors_df.drop(neighbors_df.index[user_id-1], axis=0, inplace=True)\n",
        "\n",
        "    # get number of user iteractions\n",
        "    neighbors_list = neighbors_df['neighbor_id']\n",
        "    num_iteractions = []\n",
        "    for user in neighbors_list:\n",
        "      num_iteractions.append(user_item.iloc[user-1].sum())\n",
        "\n",
        "    # add number of interactions to the dataframe as num_iteractions\n",
        "    neighbors_df['num_iteractions'] = user_iteractions\n",
        "\n",
        "    # sort by similarity, and then by num_iteractions\n",
        "    neighbors_df = neighbors_df.sort_values(by=['similarity','num_iteractions'], ascending=[False,False]).reset_index(drop=True)\n",
        "\n",
        "    \n",
        "    return neighbors_df # Return the dataframe specified in the doc_string\n",
        "\n",
        "\n",
        "def user_user_recs_part2(user_id, m=10):\n",
        "    '''\n",
        "    INPUT:\n",
        "    user_id - (int) a user id\n",
        "    m - (int) the number of recommendations you want for the user\n",
        "    \n",
        "    OUTPUT:\n",
        "    recs - (list) a list of recommendations for the user by article id\n",
        "    rec_names - (list) a list of recommendations for the user by article title\n",
        "    \n",
        "    Description:\n",
        "    Loops through the users based on closeness to the input user_id\n",
        "    For each user - finds articles the user hasn't seen before and provides them as recs\n",
        "    Does this until m recommendations are found\n",
        "    \n",
        "    Notes:\n",
        "    * Choose the users that have the most total article interactions \n",
        "    before choosing those with fewer article interactions.\n",
        "\n",
        "    * Choose articles with the articles with the most total interactions \n",
        "    before choosing those with fewer total interactions. \n",
        "   \n",
        "    '''\n",
        "    # List of most similar users, sorted by number of interactions\n",
        "    most_similar_users = get_top_sorted_users(user_id)\n",
        "    \n",
        "    # Articles the user of interest have interacted with\n",
        "    user_articles_ids, user_articles_titles = get_user_articles(user_id)\n",
        "\n",
        "    # Ranking of Top Articles\n",
        "    list_top_articles = get_top_article_ids(5000000)\n",
        "\n",
        "    # Iterate through the list of most similar users to get recommendations\n",
        "    recs = []\n",
        "    for user in most_similar_users['neighbor_id']:\n",
        "      similar_user_articles_id, similar_user_articles_title = get_user_articles(user)\n",
        "      diff_articles = np.setdiff1d(similar_user_articles_id,user_articles_ids)\n",
        "\n",
        "      # Sort Articles by most interacted\n",
        "      ranking_position = []\n",
        "      for art_id in diff_articles:\n",
        "        ranking_position.append((np.where(list_top_articles == float(art_id))[0][0]))\n",
        "\n",
        "      rec_articles_df = pd.DataFrame({'article_id': diff_articles, 'ranking' : ranking_position})\n",
        "      rec_articles_df = rec_articles_df.sort_values(by=['ranking']).reset_index(drop=True)\n",
        "      diff_articles_rec = rec_articles_df['article_id']\n",
        "\n",
        "      # Include reccomendations into a list\n",
        "      for article in diff_articles_rec:\n",
        "        if article not in recs:\n",
        "          if len(recs) >= m:\n",
        "            break\n",
        "          else:\n",
        "            recs.append(article)   \n",
        "      if len(recs) > m:\n",
        "        break\n",
        "\n",
        "    #Create a list of the recommended article names\n",
        "    rec_names = get_article_names(recs)\n",
        "    \n",
        "    return recs, rec_names"
      ],
      "execution_count": 0,
      "outputs": []
    },
    {
      "cell_type": "code",
      "metadata": {
        "id": "lKr7XgNXoth7",
        "colab_type": "code",
        "outputId": "6dda3660-2ff4-4ea9-9596-a59b9e25a330",
        "colab": {
          "base_uri": "https://localhost:8080/",
          "height": 128
        }
      },
      "source": [
        "# Quick spot check - don't change this code - just use it to test your functions\n",
        "rec_ids, rec_names = user_user_recs_part2(20, 10)\n",
        "print(\"The top 10 recommendations for user 20 are the following article ids:\")\n",
        "print(rec_ids)\n",
        "print()\n",
        "print(\"The top 10 recommendations for user 20 are the following article names:\")\n",
        "print(rec_names)"
      ],
      "execution_count": 0,
      "outputs": [
        {
          "output_type": "stream",
          "text": [
            "The top 10 recommendations for user 20 are the following article ids:\n",
            "['1429.0', '1330.0', '1314.0', '1293.0', '1162.0', '1271.0', '43.0', '1351.0', '1368.0', '1305.0']\n",
            "\n",
            "The top 10 recommendations for user 20 are the following article names:\n",
            "['use deep learning for image classification', 'insights from new york car accident reports', 'healthcare python streaming application demo', 'finding optimal locations of new store using decision optimization', 'analyze energy consumption in buildings', 'customer demographics and sales', 'deep learning with tensorflow course by big data university', 'model bike sharing data with spss', 'putting a human face on machine learning', 'gosales transactions for naive bayes model']\n"
          ],
          "name": "stdout"
        }
      ]
    },
    {
      "cell_type": "markdown",
      "metadata": {
        "id": "I55w_KYGoth9",
        "colab_type": "text"
      },
      "source": [
        "`5.` Use your functions from above to correctly fill in the solutions to the dictionary below.  Then test your dictionary against the solution.  Provide the code you need to answer each following the comments below."
      ]
    },
    {
      "cell_type": "code",
      "metadata": {
        "id": "aKcFKJuji8fd",
        "colab_type": "code",
        "colab": {}
      },
      "source": [
        "user_1_test = get_top_sorted_users(1)"
      ],
      "execution_count": 0,
      "outputs": []
    },
    {
      "cell_type": "code",
      "metadata": {
        "id": "42wNKp3pjgqc",
        "colab_type": "code",
        "outputId": "8ae9e363-f263-4d67-fabe-e147a4197f19",
        "colab": {
          "base_uri": "https://localhost:8080/",
          "height": 35
        }
      },
      "source": [
        "user_1_test['neighbor_id'][0]"
      ],
      "execution_count": 0,
      "outputs": [
        {
          "output_type": "execute_result",
          "data": {
            "text/plain": [
              "3933"
            ]
          },
          "metadata": {
            "tags": []
          },
          "execution_count": 258
        }
      ]
    },
    {
      "cell_type": "code",
      "metadata": {
        "id": "K1xD_Hv3jzAC",
        "colab_type": "code",
        "colab": {}
      },
      "source": [
        "user_131_test = get_top_sorted_users(131)"
      ],
      "execution_count": 0,
      "outputs": []
    },
    {
      "cell_type": "code",
      "metadata": {
        "id": "Kiyv01hglK2T",
        "colab_type": "code",
        "outputId": "5079899e-e180-4a67-9a8e-7ed60ba95890",
        "colab": {
          "base_uri": "https://localhost:8080/",
          "height": 35
        }
      },
      "source": [
        "user_131_test['neighbor_id'][9]"
      ],
      "execution_count": 0,
      "outputs": [
        {
          "output_type": "execute_result",
          "data": {
            "text/plain": [
              "242"
            ]
          },
          "metadata": {
            "tags": []
          },
          "execution_count": 261
        }
      ]
    },
    {
      "cell_type": "code",
      "metadata": {
        "id": "_4x-KqT7oth9",
        "colab_type": "code",
        "colab": {}
      },
      "source": [
        "### Tests with a dictionary of results\n",
        "\n",
        "user1_most_sim = 3933 # Find the user that is most similar to user 1 \n",
        "user131_10th_sim = 242 # Find the 10th most similar user to user 131"
      ],
      "execution_count": 0,
      "outputs": []
    },
    {
      "cell_type": "code",
      "metadata": {
        "id": "Dlj2Irw_otiA",
        "colab_type": "code",
        "outputId": "9583a44a-1d83-4f0f-be8c-7101f3c08dcb",
        "colab": {
          "base_uri": "https://localhost:8080/",
          "height": 35
        }
      },
      "source": [
        "## Dictionary Test Here\n",
        "sol_5_dict = {\n",
        "    'The user that is most similar to user 1.': user1_most_sim, \n",
        "    'The user that is the 10th most similar to user 131': user131_10th_sim,\n",
        "}\n",
        "\n",
        "t.sol_5_test(sol_5_dict)"
      ],
      "execution_count": 0,
      "outputs": [
        {
          "output_type": "stream",
          "text": [
            "This all looks good!  Nice job!\n"
          ],
          "name": "stdout"
        }
      ]
    },
    {
      "cell_type": "markdown",
      "metadata": {
        "id": "0MwOflDSotiC",
        "colab_type": "text"
      },
      "source": [
        "`6.` If we were given a new user, which of the above functions would you be able to use to make recommendations?  Explain.  Can you think of a better way we might make recommendations?  Use the cell below to explain a better method for new users."
      ]
    },
    {
      "cell_type": "markdown",
      "metadata": {
        "id": "pVZZt1H2otiC",
        "colab_type": "text"
      },
      "source": [
        "**Answer to 6**\n",
        "\n",
        "For a brand new user, the collaborative approach wouldn't work, as this user has no recorded interactions so far.\n",
        "Hence, the best way to recommend articles for his first access would be recommending the most popular articles, which are the ones with most iteractions.\n",
        "\n",
        "The function above that does it is \"get_top_article_ids\" or \"get_top_article\".\n"
      ]
    },
    {
      "cell_type": "markdown",
      "metadata": {
        "id": "HtUDTiF1otiC",
        "colab_type": "text"
      },
      "source": [
        "`7.` Using your existing functions, provide the top 10 recommended articles you would provide for the a new user below.  You can test your function against our thoughts to make sure we are all on the same page with how we might make a recommendation."
      ]
    },
    {
      "cell_type": "code",
      "metadata": {
        "id": "Lgf3Mp1yotiD",
        "colab_type": "code",
        "colab": {}
      },
      "source": [
        "new_user = '0.0'\n",
        "\n",
        "# What would your recommendations be for this new user '0.0'?  As a new user, they have no observed articles.\n",
        "# Provide a list of the top 10 article ids you would give to \n",
        "new_user_recs = list(map(str, get_top_article_ids(10)))"
      ],
      "execution_count": 0,
      "outputs": []
    },
    {
      "cell_type": "code",
      "metadata": {
        "id": "R2KyE76iotiF",
        "colab_type": "code",
        "outputId": "af185c4f-d35d-4e1a-85d0-ad3a9ccfef6f",
        "colab": {
          "base_uri": "https://localhost:8080/",
          "height": 35
        }
      },
      "source": [
        "assert set(new_user_recs) == set(['1314.0','1429.0','1293.0','1427.0','1162.0','1364.0','1304.0','1170.0','1431.0','1330.0']), \"Oops!  It makes sense that in this case we would want to recommend the most popular articles, because we don't know anything about these users.\"\n",
        "\n",
        "print(\"That's right!  Nice job!\")"
      ],
      "execution_count": 0,
      "outputs": [
        {
          "output_type": "stream",
          "text": [
            "That's right!  Nice job!\n"
          ],
          "name": "stdout"
        }
      ]
    },
    {
      "cell_type": "markdown",
      "metadata": {
        "id": "5xt0pSDAotiO",
        "colab_type": "text"
      },
      "source": [
        "### <a class=\"anchor\" id=\"Matrix-Fact\">Part V: Matrix Factorization</a>\n",
        "\n",
        "In this part of the notebook, you will build use matrix factorization to make article recommendations to the users on the IBM Watson Studio platform.\n",
        "\n",
        "`1.` You should have already created a **user_item** matrix above in **question 1** of **Part III** above.  This first question here will just require that you run the cells to get things set up for the rest of **Part V** of the notebook. "
      ]
    },
    {
      "cell_type": "code",
      "metadata": {
        "id": "oEDBbfQ4otiO",
        "colab_type": "code",
        "colab": {}
      },
      "source": [
        "# Load the matrix here\n",
        "user_item_matrix = pd.read_pickle('user_item_matrix.p')"
      ],
      "execution_count": 0,
      "outputs": []
    },
    {
      "cell_type": "code",
      "metadata": {
        "id": "Dkgm9v03otiQ",
        "colab_type": "code",
        "outputId": "45b19e5e-e780-4a23-e28c-cc98f4c5707e",
        "colab": {
          "base_uri": "https://localhost:8080/",
          "height": 277
        }
      },
      "source": [
        "# quick look at the matrix\n",
        "user_item_matrix.head()"
      ],
      "execution_count": 11,
      "outputs": [
        {
          "output_type": "execute_result",
          "data": {
            "text/html": [
              "<div>\n",
              "<style scoped>\n",
              "    .dataframe tbody tr th:only-of-type {\n",
              "        vertical-align: middle;\n",
              "    }\n",
              "\n",
              "    .dataframe tbody tr th {\n",
              "        vertical-align: top;\n",
              "    }\n",
              "\n",
              "    .dataframe thead th {\n",
              "        text-align: right;\n",
              "    }\n",
              "</style>\n",
              "<table border=\"1\" class=\"dataframe\">\n",
              "  <thead>\n",
              "    <tr style=\"text-align: right;\">\n",
              "      <th>article_id</th>\n",
              "      <th>0.0</th>\n",
              "      <th>100.0</th>\n",
              "      <th>1000.0</th>\n",
              "      <th>1004.0</th>\n",
              "      <th>1006.0</th>\n",
              "      <th>1008.0</th>\n",
              "      <th>101.0</th>\n",
              "      <th>1014.0</th>\n",
              "      <th>1015.0</th>\n",
              "      <th>1016.0</th>\n",
              "      <th>1017.0</th>\n",
              "      <th>1018.0</th>\n",
              "      <th>102.0</th>\n",
              "      <th>1024.0</th>\n",
              "      <th>1025.0</th>\n",
              "      <th>1028.0</th>\n",
              "      <th>103.0</th>\n",
              "      <th>1030.0</th>\n",
              "      <th>1035.0</th>\n",
              "      <th>1038.0</th>\n",
              "      <th>1042.0</th>\n",
              "      <th>1043.0</th>\n",
              "      <th>1044.0</th>\n",
              "      <th>1047.0</th>\n",
              "      <th>1048.0</th>\n",
              "      <th>1050.0</th>\n",
              "      <th>1051.0</th>\n",
              "      <th>1052.0</th>\n",
              "      <th>1053.0</th>\n",
              "      <th>1054.0</th>\n",
              "      <th>1055.0</th>\n",
              "      <th>1056.0</th>\n",
              "      <th>1057.0</th>\n",
              "      <th>1058.0</th>\n",
              "      <th>1059.0</th>\n",
              "      <th>1060.0</th>\n",
              "      <th>1061.0</th>\n",
              "      <th>1062.0</th>\n",
              "      <th>1063.0</th>\n",
              "      <th>1064.0</th>\n",
              "      <th>...</th>\n",
              "      <th>928.0</th>\n",
              "      <th>930.0</th>\n",
              "      <th>932.0</th>\n",
              "      <th>933.0</th>\n",
              "      <th>935.0</th>\n",
              "      <th>936.0</th>\n",
              "      <th>939.0</th>\n",
              "      <th>940.0</th>\n",
              "      <th>941.0</th>\n",
              "      <th>943.0</th>\n",
              "      <th>947.0</th>\n",
              "      <th>948.0</th>\n",
              "      <th>949.0</th>\n",
              "      <th>951.0</th>\n",
              "      <th>952.0</th>\n",
              "      <th>955.0</th>\n",
              "      <th>957.0</th>\n",
              "      <th>958.0</th>\n",
              "      <th>959.0</th>\n",
              "      <th>96.0</th>\n",
              "      <th>961.0</th>\n",
              "      <th>962.0</th>\n",
              "      <th>965.0</th>\n",
              "      <th>967.0</th>\n",
              "      <th>968.0</th>\n",
              "      <th>969.0</th>\n",
              "      <th>972.0</th>\n",
              "      <th>973.0</th>\n",
              "      <th>974.0</th>\n",
              "      <th>975.0</th>\n",
              "      <th>977.0</th>\n",
              "      <th>98.0</th>\n",
              "      <th>981.0</th>\n",
              "      <th>984.0</th>\n",
              "      <th>985.0</th>\n",
              "      <th>986.0</th>\n",
              "      <th>990.0</th>\n",
              "      <th>993.0</th>\n",
              "      <th>996.0</th>\n",
              "      <th>997.0</th>\n",
              "    </tr>\n",
              "    <tr>\n",
              "      <th>user_id</th>\n",
              "      <th></th>\n",
              "      <th></th>\n",
              "      <th></th>\n",
              "      <th></th>\n",
              "      <th></th>\n",
              "      <th></th>\n",
              "      <th></th>\n",
              "      <th></th>\n",
              "      <th></th>\n",
              "      <th></th>\n",
              "      <th></th>\n",
              "      <th></th>\n",
              "      <th></th>\n",
              "      <th></th>\n",
              "      <th></th>\n",
              "      <th></th>\n",
              "      <th></th>\n",
              "      <th></th>\n",
              "      <th></th>\n",
              "      <th></th>\n",
              "      <th></th>\n",
              "      <th></th>\n",
              "      <th></th>\n",
              "      <th></th>\n",
              "      <th></th>\n",
              "      <th></th>\n",
              "      <th></th>\n",
              "      <th></th>\n",
              "      <th></th>\n",
              "      <th></th>\n",
              "      <th></th>\n",
              "      <th></th>\n",
              "      <th></th>\n",
              "      <th></th>\n",
              "      <th></th>\n",
              "      <th></th>\n",
              "      <th></th>\n",
              "      <th></th>\n",
              "      <th></th>\n",
              "      <th></th>\n",
              "      <th></th>\n",
              "      <th></th>\n",
              "      <th></th>\n",
              "      <th></th>\n",
              "      <th></th>\n",
              "      <th></th>\n",
              "      <th></th>\n",
              "      <th></th>\n",
              "      <th></th>\n",
              "      <th></th>\n",
              "      <th></th>\n",
              "      <th></th>\n",
              "      <th></th>\n",
              "      <th></th>\n",
              "      <th></th>\n",
              "      <th></th>\n",
              "      <th></th>\n",
              "      <th></th>\n",
              "      <th></th>\n",
              "      <th></th>\n",
              "      <th></th>\n",
              "      <th></th>\n",
              "      <th></th>\n",
              "      <th></th>\n",
              "      <th></th>\n",
              "      <th></th>\n",
              "      <th></th>\n",
              "      <th></th>\n",
              "      <th></th>\n",
              "      <th></th>\n",
              "      <th></th>\n",
              "      <th></th>\n",
              "      <th></th>\n",
              "      <th></th>\n",
              "      <th></th>\n",
              "      <th></th>\n",
              "      <th></th>\n",
              "      <th></th>\n",
              "      <th></th>\n",
              "      <th></th>\n",
              "      <th></th>\n",
              "    </tr>\n",
              "  </thead>\n",
              "  <tbody>\n",
              "    <tr>\n",
              "      <th>1</th>\n",
              "      <td>0.0</td>\n",
              "      <td>0.0</td>\n",
              "      <td>0.0</td>\n",
              "      <td>0.0</td>\n",
              "      <td>0.0</td>\n",
              "      <td>0.0</td>\n",
              "      <td>0.0</td>\n",
              "      <td>0.0</td>\n",
              "      <td>0.0</td>\n",
              "      <td>0.0</td>\n",
              "      <td>0.0</td>\n",
              "      <td>0.0</td>\n",
              "      <td>0.0</td>\n",
              "      <td>0.0</td>\n",
              "      <td>0.0</td>\n",
              "      <td>0.0</td>\n",
              "      <td>0.0</td>\n",
              "      <td>0.0</td>\n",
              "      <td>0.0</td>\n",
              "      <td>0.0</td>\n",
              "      <td>0.0</td>\n",
              "      <td>0.0</td>\n",
              "      <td>0.0</td>\n",
              "      <td>0.0</td>\n",
              "      <td>0.0</td>\n",
              "      <td>0.0</td>\n",
              "      <td>0.0</td>\n",
              "      <td>1.0</td>\n",
              "      <td>0.0</td>\n",
              "      <td>0.0</td>\n",
              "      <td>0.0</td>\n",
              "      <td>0.0</td>\n",
              "      <td>0.0</td>\n",
              "      <td>0.0</td>\n",
              "      <td>0.0</td>\n",
              "      <td>0.0</td>\n",
              "      <td>0.0</td>\n",
              "      <td>0.0</td>\n",
              "      <td>0.0</td>\n",
              "      <td>0.0</td>\n",
              "      <td>...</td>\n",
              "      <td>0.0</td>\n",
              "      <td>0.0</td>\n",
              "      <td>0.0</td>\n",
              "      <td>0.0</td>\n",
              "      <td>0.0</td>\n",
              "      <td>0.0</td>\n",
              "      <td>0.0</td>\n",
              "      <td>0.0</td>\n",
              "      <td>0.0</td>\n",
              "      <td>0.0</td>\n",
              "      <td>0.0</td>\n",
              "      <td>0.0</td>\n",
              "      <td>0.0</td>\n",
              "      <td>0.0</td>\n",
              "      <td>0.0</td>\n",
              "      <td>0.0</td>\n",
              "      <td>0.0</td>\n",
              "      <td>0.0</td>\n",
              "      <td>0.0</td>\n",
              "      <td>0.0</td>\n",
              "      <td>0.0</td>\n",
              "      <td>0.0</td>\n",
              "      <td>0.0</td>\n",
              "      <td>0.0</td>\n",
              "      <td>1.0</td>\n",
              "      <td>0.0</td>\n",
              "      <td>0.0</td>\n",
              "      <td>0.0</td>\n",
              "      <td>0.0</td>\n",
              "      <td>0.0</td>\n",
              "      <td>0.0</td>\n",
              "      <td>0.0</td>\n",
              "      <td>1.0</td>\n",
              "      <td>0.0</td>\n",
              "      <td>0.0</td>\n",
              "      <td>0.0</td>\n",
              "      <td>0.0</td>\n",
              "      <td>0.0</td>\n",
              "      <td>0.0</td>\n",
              "      <td>0.0</td>\n",
              "    </tr>\n",
              "    <tr>\n",
              "      <th>2</th>\n",
              "      <td>0.0</td>\n",
              "      <td>0.0</td>\n",
              "      <td>0.0</td>\n",
              "      <td>0.0</td>\n",
              "      <td>0.0</td>\n",
              "      <td>0.0</td>\n",
              "      <td>0.0</td>\n",
              "      <td>0.0</td>\n",
              "      <td>0.0</td>\n",
              "      <td>0.0</td>\n",
              "      <td>0.0</td>\n",
              "      <td>0.0</td>\n",
              "      <td>0.0</td>\n",
              "      <td>1.0</td>\n",
              "      <td>0.0</td>\n",
              "      <td>0.0</td>\n",
              "      <td>0.0</td>\n",
              "      <td>0.0</td>\n",
              "      <td>0.0</td>\n",
              "      <td>0.0</td>\n",
              "      <td>0.0</td>\n",
              "      <td>0.0</td>\n",
              "      <td>0.0</td>\n",
              "      <td>0.0</td>\n",
              "      <td>0.0</td>\n",
              "      <td>0.0</td>\n",
              "      <td>0.0</td>\n",
              "      <td>0.0</td>\n",
              "      <td>0.0</td>\n",
              "      <td>0.0</td>\n",
              "      <td>0.0</td>\n",
              "      <td>0.0</td>\n",
              "      <td>0.0</td>\n",
              "      <td>0.0</td>\n",
              "      <td>0.0</td>\n",
              "      <td>0.0</td>\n",
              "      <td>0.0</td>\n",
              "      <td>0.0</td>\n",
              "      <td>0.0</td>\n",
              "      <td>0.0</td>\n",
              "      <td>...</td>\n",
              "      <td>0.0</td>\n",
              "      <td>0.0</td>\n",
              "      <td>0.0</td>\n",
              "      <td>0.0</td>\n",
              "      <td>0.0</td>\n",
              "      <td>0.0</td>\n",
              "      <td>0.0</td>\n",
              "      <td>0.0</td>\n",
              "      <td>0.0</td>\n",
              "      <td>0.0</td>\n",
              "      <td>0.0</td>\n",
              "      <td>0.0</td>\n",
              "      <td>0.0</td>\n",
              "      <td>0.0</td>\n",
              "      <td>0.0</td>\n",
              "      <td>0.0</td>\n",
              "      <td>0.0</td>\n",
              "      <td>0.0</td>\n",
              "      <td>0.0</td>\n",
              "      <td>0.0</td>\n",
              "      <td>0.0</td>\n",
              "      <td>0.0</td>\n",
              "      <td>0.0</td>\n",
              "      <td>0.0</td>\n",
              "      <td>0.0</td>\n",
              "      <td>0.0</td>\n",
              "      <td>0.0</td>\n",
              "      <td>0.0</td>\n",
              "      <td>0.0</td>\n",
              "      <td>0.0</td>\n",
              "      <td>0.0</td>\n",
              "      <td>0.0</td>\n",
              "      <td>0.0</td>\n",
              "      <td>0.0</td>\n",
              "      <td>0.0</td>\n",
              "      <td>0.0</td>\n",
              "      <td>0.0</td>\n",
              "      <td>0.0</td>\n",
              "      <td>0.0</td>\n",
              "      <td>0.0</td>\n",
              "    </tr>\n",
              "    <tr>\n",
              "      <th>3</th>\n",
              "      <td>0.0</td>\n",
              "      <td>0.0</td>\n",
              "      <td>0.0</td>\n",
              "      <td>0.0</td>\n",
              "      <td>0.0</td>\n",
              "      <td>0.0</td>\n",
              "      <td>0.0</td>\n",
              "      <td>0.0</td>\n",
              "      <td>0.0</td>\n",
              "      <td>0.0</td>\n",
              "      <td>0.0</td>\n",
              "      <td>0.0</td>\n",
              "      <td>0.0</td>\n",
              "      <td>0.0</td>\n",
              "      <td>0.0</td>\n",
              "      <td>0.0</td>\n",
              "      <td>0.0</td>\n",
              "      <td>0.0</td>\n",
              "      <td>1.0</td>\n",
              "      <td>0.0</td>\n",
              "      <td>0.0</td>\n",
              "      <td>0.0</td>\n",
              "      <td>0.0</td>\n",
              "      <td>0.0</td>\n",
              "      <td>0.0</td>\n",
              "      <td>0.0</td>\n",
              "      <td>0.0</td>\n",
              "      <td>0.0</td>\n",
              "      <td>0.0</td>\n",
              "      <td>0.0</td>\n",
              "      <td>0.0</td>\n",
              "      <td>0.0</td>\n",
              "      <td>1.0</td>\n",
              "      <td>0.0</td>\n",
              "      <td>1.0</td>\n",
              "      <td>0.0</td>\n",
              "      <td>0.0</td>\n",
              "      <td>0.0</td>\n",
              "      <td>0.0</td>\n",
              "      <td>0.0</td>\n",
              "      <td>...</td>\n",
              "      <td>0.0</td>\n",
              "      <td>0.0</td>\n",
              "      <td>0.0</td>\n",
              "      <td>0.0</td>\n",
              "      <td>0.0</td>\n",
              "      <td>0.0</td>\n",
              "      <td>0.0</td>\n",
              "      <td>0.0</td>\n",
              "      <td>0.0</td>\n",
              "      <td>0.0</td>\n",
              "      <td>0.0</td>\n",
              "      <td>0.0</td>\n",
              "      <td>0.0</td>\n",
              "      <td>0.0</td>\n",
              "      <td>0.0</td>\n",
              "      <td>0.0</td>\n",
              "      <td>1.0</td>\n",
              "      <td>0.0</td>\n",
              "      <td>0.0</td>\n",
              "      <td>0.0</td>\n",
              "      <td>0.0</td>\n",
              "      <td>0.0</td>\n",
              "      <td>0.0</td>\n",
              "      <td>0.0</td>\n",
              "      <td>0.0</td>\n",
              "      <td>0.0</td>\n",
              "      <td>0.0</td>\n",
              "      <td>0.0</td>\n",
              "      <td>0.0</td>\n",
              "      <td>0.0</td>\n",
              "      <td>1.0</td>\n",
              "      <td>0.0</td>\n",
              "      <td>0.0</td>\n",
              "      <td>0.0</td>\n",
              "      <td>0.0</td>\n",
              "      <td>0.0</td>\n",
              "      <td>0.0</td>\n",
              "      <td>0.0</td>\n",
              "      <td>0.0</td>\n",
              "      <td>0.0</td>\n",
              "    </tr>\n",
              "    <tr>\n",
              "      <th>4</th>\n",
              "      <td>0.0</td>\n",
              "      <td>0.0</td>\n",
              "      <td>0.0</td>\n",
              "      <td>0.0</td>\n",
              "      <td>0.0</td>\n",
              "      <td>0.0</td>\n",
              "      <td>0.0</td>\n",
              "      <td>0.0</td>\n",
              "      <td>0.0</td>\n",
              "      <td>0.0</td>\n",
              "      <td>0.0</td>\n",
              "      <td>0.0</td>\n",
              "      <td>0.0</td>\n",
              "      <td>0.0</td>\n",
              "      <td>0.0</td>\n",
              "      <td>0.0</td>\n",
              "      <td>0.0</td>\n",
              "      <td>0.0</td>\n",
              "      <td>0.0</td>\n",
              "      <td>0.0</td>\n",
              "      <td>0.0</td>\n",
              "      <td>0.0</td>\n",
              "      <td>0.0</td>\n",
              "      <td>0.0</td>\n",
              "      <td>0.0</td>\n",
              "      <td>0.0</td>\n",
              "      <td>0.0</td>\n",
              "      <td>0.0</td>\n",
              "      <td>0.0</td>\n",
              "      <td>0.0</td>\n",
              "      <td>0.0</td>\n",
              "      <td>0.0</td>\n",
              "      <td>0.0</td>\n",
              "      <td>0.0</td>\n",
              "      <td>0.0</td>\n",
              "      <td>0.0</td>\n",
              "      <td>0.0</td>\n",
              "      <td>0.0</td>\n",
              "      <td>0.0</td>\n",
              "      <td>0.0</td>\n",
              "      <td>...</td>\n",
              "      <td>0.0</td>\n",
              "      <td>0.0</td>\n",
              "      <td>0.0</td>\n",
              "      <td>0.0</td>\n",
              "      <td>0.0</td>\n",
              "      <td>0.0</td>\n",
              "      <td>0.0</td>\n",
              "      <td>0.0</td>\n",
              "      <td>0.0</td>\n",
              "      <td>0.0</td>\n",
              "      <td>0.0</td>\n",
              "      <td>0.0</td>\n",
              "      <td>0.0</td>\n",
              "      <td>0.0</td>\n",
              "      <td>0.0</td>\n",
              "      <td>0.0</td>\n",
              "      <td>0.0</td>\n",
              "      <td>0.0</td>\n",
              "      <td>0.0</td>\n",
              "      <td>0.0</td>\n",
              "      <td>0.0</td>\n",
              "      <td>0.0</td>\n",
              "      <td>0.0</td>\n",
              "      <td>0.0</td>\n",
              "      <td>0.0</td>\n",
              "      <td>0.0</td>\n",
              "      <td>0.0</td>\n",
              "      <td>0.0</td>\n",
              "      <td>0.0</td>\n",
              "      <td>0.0</td>\n",
              "      <td>0.0</td>\n",
              "      <td>0.0</td>\n",
              "      <td>0.0</td>\n",
              "      <td>0.0</td>\n",
              "      <td>0.0</td>\n",
              "      <td>0.0</td>\n",
              "      <td>0.0</td>\n",
              "      <td>0.0</td>\n",
              "      <td>0.0</td>\n",
              "      <td>0.0</td>\n",
              "    </tr>\n",
              "    <tr>\n",
              "      <th>5</th>\n",
              "      <td>0.0</td>\n",
              "      <td>0.0</td>\n",
              "      <td>0.0</td>\n",
              "      <td>0.0</td>\n",
              "      <td>0.0</td>\n",
              "      <td>0.0</td>\n",
              "      <td>0.0</td>\n",
              "      <td>0.0</td>\n",
              "      <td>0.0</td>\n",
              "      <td>0.0</td>\n",
              "      <td>0.0</td>\n",
              "      <td>0.0</td>\n",
              "      <td>0.0</td>\n",
              "      <td>0.0</td>\n",
              "      <td>0.0</td>\n",
              "      <td>0.0</td>\n",
              "      <td>0.0</td>\n",
              "      <td>0.0</td>\n",
              "      <td>0.0</td>\n",
              "      <td>0.0</td>\n",
              "      <td>0.0</td>\n",
              "      <td>0.0</td>\n",
              "      <td>0.0</td>\n",
              "      <td>0.0</td>\n",
              "      <td>0.0</td>\n",
              "      <td>0.0</td>\n",
              "      <td>0.0</td>\n",
              "      <td>0.0</td>\n",
              "      <td>0.0</td>\n",
              "      <td>0.0</td>\n",
              "      <td>0.0</td>\n",
              "      <td>0.0</td>\n",
              "      <td>0.0</td>\n",
              "      <td>0.0</td>\n",
              "      <td>0.0</td>\n",
              "      <td>0.0</td>\n",
              "      <td>0.0</td>\n",
              "      <td>0.0</td>\n",
              "      <td>0.0</td>\n",
              "      <td>0.0</td>\n",
              "      <td>...</td>\n",
              "      <td>0.0</td>\n",
              "      <td>0.0</td>\n",
              "      <td>0.0</td>\n",
              "      <td>0.0</td>\n",
              "      <td>0.0</td>\n",
              "      <td>0.0</td>\n",
              "      <td>0.0</td>\n",
              "      <td>0.0</td>\n",
              "      <td>0.0</td>\n",
              "      <td>0.0</td>\n",
              "      <td>0.0</td>\n",
              "      <td>0.0</td>\n",
              "      <td>0.0</td>\n",
              "      <td>0.0</td>\n",
              "      <td>0.0</td>\n",
              "      <td>0.0</td>\n",
              "      <td>0.0</td>\n",
              "      <td>0.0</td>\n",
              "      <td>0.0</td>\n",
              "      <td>0.0</td>\n",
              "      <td>0.0</td>\n",
              "      <td>0.0</td>\n",
              "      <td>0.0</td>\n",
              "      <td>0.0</td>\n",
              "      <td>0.0</td>\n",
              "      <td>0.0</td>\n",
              "      <td>0.0</td>\n",
              "      <td>0.0</td>\n",
              "      <td>0.0</td>\n",
              "      <td>0.0</td>\n",
              "      <td>0.0</td>\n",
              "      <td>0.0</td>\n",
              "      <td>0.0</td>\n",
              "      <td>0.0</td>\n",
              "      <td>0.0</td>\n",
              "      <td>0.0</td>\n",
              "      <td>0.0</td>\n",
              "      <td>0.0</td>\n",
              "      <td>0.0</td>\n",
              "      <td>0.0</td>\n",
              "    </tr>\n",
              "  </tbody>\n",
              "</table>\n",
              "<p>5 rows × 714 columns</p>\n",
              "</div>"
            ],
            "text/plain": [
              "article_id  0.0  100.0  1000.0  1004.0  ...  990.0  993.0  996.0  997.0\n",
              "user_id                                 ...                            \n",
              "1           0.0    0.0     0.0     0.0  ...    0.0    0.0    0.0    0.0\n",
              "2           0.0    0.0     0.0     0.0  ...    0.0    0.0    0.0    0.0\n",
              "3           0.0    0.0     0.0     0.0  ...    0.0    0.0    0.0    0.0\n",
              "4           0.0    0.0     0.0     0.0  ...    0.0    0.0    0.0    0.0\n",
              "5           0.0    0.0     0.0     0.0  ...    0.0    0.0    0.0    0.0\n",
              "\n",
              "[5 rows x 714 columns]"
            ]
          },
          "metadata": {
            "tags": []
          },
          "execution_count": 11
        }
      ]
    },
    {
      "cell_type": "markdown",
      "metadata": {
        "id": "wRXL4-xLotiT",
        "colab_type": "text"
      },
      "source": [
        "`2.` In this situation, you can use Singular Value Decomposition from [numpy](https://docs.scipy.org/doc/numpy-1.14.0/reference/generated/numpy.linalg.svd.html) on the user-item matrix.  Use the cell to perform SVD, and explain why this is different than in the lesson."
      ]
    },
    {
      "cell_type": "code",
      "metadata": {
        "id": "Uw71Hsa0otiU",
        "colab_type": "code",
        "colab": {}
      },
      "source": [
        "# Perform SVD on the User-Item Matrix Here\n",
        "\n",
        "u, s, vt = np.linalg.svd(user_item_matrix)"
      ],
      "execution_count": 0,
      "outputs": []
    },
    {
      "cell_type": "code",
      "metadata": {
        "id": "CS1a_v2_s_LB",
        "colab_type": "code",
        "outputId": "1f5471fd-1bee-43ca-ca3a-957d0f3ba0d6",
        "colab": {
          "base_uri": "https://localhost:8080/",
          "height": 35
        }
      },
      "source": [
        "s.shape, u.shape, vt.shape"
      ],
      "execution_count": 13,
      "outputs": [
        {
          "output_type": "execute_result",
          "data": {
            "text/plain": [
              "((714,), (5149, 5149), (714, 714))"
            ]
          },
          "metadata": {
            "tags": []
          },
          "execution_count": 13
        }
      ]
    },
    {
      "cell_type": "markdown",
      "metadata": {
        "id": "0KlKiaR9otiW",
        "colab_type": "text"
      },
      "source": [
        "**Answer to 2**\n",
        "\n",
        "It's possible to usem Singular Value Decomposition from numpy here because *user_item_matrix* has no missing values."
      ]
    },
    {
      "cell_type": "markdown",
      "metadata": {
        "id": "9LGj3yK0otiW",
        "colab_type": "text"
      },
      "source": [
        "`3.` Now for the tricky part, how do we choose the number of latent features to use?  Running the below cell, you can see that as the number of latent features increases, we obtain a lower error rate on making predictions for the 1 and 0 values in the user-item matrix.  Run the cell below to get an idea of how the accuracy improves as we increase the number of latent features."
      ]
    },
    {
      "cell_type": "code",
      "metadata": {
        "id": "LvsTXWJsotiX",
        "colab_type": "code",
        "outputId": "4604e844-d73d-4474-98aa-400527f3dd66",
        "colab": {
          "base_uri": "https://localhost:8080/",
          "height": 295
        }
      },
      "source": [
        "num_latent_feats = np.arange(10,700+10,20)\n",
        "sum_errs = []\n",
        "\n",
        "for k in num_latent_feats:\n",
        "    # restructure with k latent features\n",
        "    s_new, u_new, vt_new = np.diag(s[:k]), u[:, :k], vt[:k, :]\n",
        "    \n",
        "    # take dot product\n",
        "    user_item_est = np.around(np.dot(np.dot(u_new, s_new), vt_new))\n",
        "    \n",
        "    # compute error for each prediction to actual value\n",
        "    diffs = np.subtract(user_item_matrix, user_item_est)\n",
        "    \n",
        "    # total errors and keep track of them\n",
        "    err = np.sum(np.sum(np.abs(diffs)))\n",
        "    sum_errs.append(err)\n",
        "    \n",
        "    \n",
        "plt.plot(num_latent_feats, 1 - np.array(sum_errs)/df.shape[0]);\n",
        "plt.xlabel('Number of Latent Features');\n",
        "plt.ylabel('Accuracy');\n",
        "plt.title('Accuracy vs. Number of Latent Features');"
      ],
      "execution_count": 14,
      "outputs": [
        {
          "output_type": "display_data",
          "data": {
            "image/png": "[encoded data removed]",
            "text/plain": [
              "<Figure size 432x288 with 1 Axes>"
            ]
          },
          "metadata": {
            "tags": [],
            "needs_background": "light"
          }
        }
      ]
    },
    {
      "cell_type": "markdown",
      "metadata": {
        "id": "U6ct82TlotiY",
        "colab_type": "text"
      },
      "source": [
        "`4.` From the above, we can't really be sure how many features to use, because simply having a better way to predict the 1's and 0's of the matrix doesn't exactly give us an indication of if we are able to make good recommendations.  Instead, we might split our dataset into a training and test set of data, as shown in the cell below.  \n",
        "\n",
        "Use the code from question 3 to understand the impact on accuracy of the training and test sets of data with different numbers of latent features. Using the split below: \n",
        "\n",
        "* How many users can we make predictions for in the test set?  \n",
        "* How many users are we not able to make predictions for because of the cold start problem?\n",
        "* How many articles can we make predictions for in the test set?  \n",
        "* How many articles are we not able to make predictions for because of the cold start problem?"
      ]
    },
    {
      "cell_type": "code",
      "metadata": {
        "id": "6L9QI9vWotiZ",
        "colab_type": "code",
        "colab": {}
      },
      "source": [
        "df_train = df.head(40000)\n",
        "df_test = df.tail(5993)\n",
        "\n",
        "def create_test_and_train_user_item(df_train, df_test):\n",
        "    '''\n",
        "    INPUT:\n",
        "    df_train - training dataframe\n",
        "    df_test - test dataframe\n",
        "    \n",
        "    OUTPUT:\n",
        "    user_item_train - a user-item matrix of the training dataframe \n",
        "                      (unique users for each row and unique articles for each column)\n",
        "    user_item_test - a user-item matrix of the testing dataframe \n",
        "                    (unique users for each row and unique articles for each column)\n",
        "    test_idx - all of the test user ids\n",
        "    test_arts - all of the test article ids\n",
        "    \n",
        "    '''\n",
        "    # Create a user-item matrix for the training dataframe\n",
        "    user_item_train = df_train.groupby(['user_id','article_id']).max().unstack()\n",
        "    user_item_train = (user_item_train.notnull()).astype('int')\n",
        "\n",
        "\n",
        "    #Get user ids for the testing user-item matrix -> intersection between users in the training and set dataframes\n",
        "\n",
        "    test_idx = df_test['user_id'].unique()\n",
        "    train_idx = df_train['user_id'].unique()\n",
        "    test_train_idx = np.intersect1d(train_idx,test_idx, assume_unique=True)\n",
        "\n",
        "    #Get article ids for the testing user-item matrix -> intersection between articles in the training and set dataframes\n",
        "\n",
        "    test_arts = df_test['article_id'].unique()\n",
        "    train_arts = df_train['article_id'].unique()\n",
        "    test_train_arts = np.intersect1d(train_arts,test_arts, assume_unique=True)\n",
        "\n",
        "    # Users that are both on test and training datasets are on the top of the dataframe now\n",
        "    df_test_new = pd.concat([(df_test[df_test['user_id'].isin(test_train_idx)]),(df_test[~df_test['user_id'].isin(test_train_idx)])], axis=0)\n",
        "\n",
        "    # Create a user-item matrix for the test dataframe\n",
        "    user_item_test = df_test_new.groupby(['user_id','article_id']).max().unstack()\n",
        "    user_item_test = (user_item_test.notnull()).astype('int')\n",
        "\n",
        "    return user_item_train, user_item_test, test_idx, test_arts, test_train_idx, test_train_arts\n",
        "\n",
        "user_item_train, user_item_test, test_idx, test_arts, test_train_idx, test_train_arts = create_test_and_train_user_item(df_train, df_test)"
      ],
      "execution_count": 0,
      "outputs": []
    },
    {
      "cell_type": "code",
      "metadata": {
        "id": "CVccsN5AScbw",
        "colab_type": "code",
        "colab": {}
      },
      "source": [
        "# User-Item matrix with only the users that are on both test and training sets\n",
        "user_item_test_new = user_item_test[0:len(test_train_idx)]"
      ],
      "execution_count": 0,
      "outputs": []
    },
    {
      "cell_type": "code",
      "metadata": {
        "id": "d_B_RTXT1xUC",
        "colab_type": "code",
        "outputId": "113a2b61-3406-49be-863a-bad5ed34ccd2",
        "colab": {
          "base_uri": "https://localhost:8080/",
          "height": 54
        }
      },
      "source": [
        "#How many users can we make predicstion for in the test set?\n",
        "\n",
        "# Answer -> The number of users that are both on the train and test datasets\n",
        "print('How many users can we make predicstion for in the test set? \\n= {}'.format(user_item_test_new.shape[0]))"
      ],
      "execution_count": 120,
      "outputs": [
        {
          "output_type": "stream",
          "text": [
            "How many users can we make predicstion for in the test set? \n",
            "= 20\n"
          ],
          "name": "stdout"
        }
      ]
    },
    {
      "cell_type": "code",
      "metadata": {
        "id": "w8O-rt86JHZt",
        "colab_type": "code",
        "outputId": "66b5f8b1-0080-4358-eff7-c5704093865a",
        "colab": {
          "base_uri": "https://localhost:8080/",
          "height": 54
        }
      },
      "source": [
        "#How many users in the test set are we not able to make predictions for because of the cold start problem?\n",
        "\n",
        "# Answer -> All the users that were not in the training dataset\n",
        "len(test_idx) - user_item_test.shape[0]\n",
        "print('How many users in the test set are we not able to make predictions for because of the cold start problem? \\n= {}'.format(len(test_idx) - user_item_test_new.shape[0]))"
      ],
      "execution_count": 121,
      "outputs": [
        {
          "output_type": "stream",
          "text": [
            "How many users in the test set are we not able to make predictions for because of the cold start problem? \n",
            "= 662\n"
          ],
          "name": "stdout"
        }
      ]
    },
    {
      "cell_type": "code",
      "metadata": {
        "id": "M6KgG19NJytG",
        "colab_type": "code",
        "outputId": "d5bfb5f2-873f-4964-dc17-87b49cdf373a",
        "colab": {
          "base_uri": "https://localhost:8080/",
          "height": 54
        }
      },
      "source": [
        "# How many articles can we make predictions for in the test set?\n",
        "\n",
        "# Answer -> All the articles that were on both training and test datasets\n",
        "print('How many users in the test set are we not able to make predictions for because of the cold start problem? \\n= {}'.format(user_item_test_new.shape[1]))\n"
      ],
      "execution_count": 122,
      "outputs": [
        {
          "output_type": "stream",
          "text": [
            "How many users in the test set are we not able to make predictions for because of the cold start problem? \n",
            "= 574\n"
          ],
          "name": "stdout"
        }
      ]
    },
    {
      "cell_type": "code",
      "metadata": {
        "id": "sQGp49qu4_FX",
        "colab_type": "code",
        "colab": {
          "base_uri": "https://localhost:8080/",
          "height": 54
        },
        "outputId": "a186950b-3931-41bf-b55c-9bd74c530654"
      },
      "source": [
        "# How many movies in the test set are we not able to make predictions for because of the cold start problem?\n",
        "\n",
        "# Answer -> We are able to make predictions to all the articles\n",
        "print('How many movies in the test set are we not able to make predictions for because of the cold start problem? \\n= {}'.format(len(test_arts) - user_item_test_new.shape[1]))\n"
      ],
      "execution_count": 123,
      "outputs": [
        {
          "output_type": "stream",
          "text": [
            "How many movies in the test set are we not able to make predictions for because of the cold start problem? \n",
            "= 0\n"
          ],
          "name": "stdout"
        }
      ]
    },
    {
      "cell_type": "markdown",
      "metadata": {
        "id": "qYNqM40jKGSj",
        "colab_type": "text"
      },
      "source": [
        ""
      ]
    },
    {
      "cell_type": "code",
      "metadata": {
        "id": "E4V-MUKMotid",
        "colab_type": "code",
        "outputId": "a57a0d18-74e9-48c1-d2b9-40e7b5ac11c1",
        "colab": {
          "base_uri": "https://localhost:8080/",
          "height": 55
        }
      },
      "source": [
        "# Replace the values in the dictionary below\n",
        "a = 662 \n",
        "b = 574 \n",
        "c = 20 \n",
        "d = 0 \n",
        "\n",
        "\n",
        "sol_4_dict = {\n",
        "    'How many users can we make predictions for in the test set?': c, \n",
        "    'How many users in the test set are we not able to make predictions for because of the cold start problem?': a, \n",
        "    'How many movies can we make predictions for in the test set?': b,\n",
        "    'How many movies in the test set are we not able to make predictions for because of the cold start problem?': d\n",
        "    }\n",
        "\n",
        "t.sol_4_test(sol_4_dict)"
      ],
      "execution_count": 36,
      "outputs": [
        {
          "output_type": "stream",
          "text": [
            "Awesome job!  That's right!  All of the test movies are in the training data, but there are only 20 test users that were also in the training set.  All of the other users that are in the test set we have no data on.  Therefore, we cannot make predictions for these users using SVD.\n"
          ],
          "name": "stdout"
        }
      ]
    },
    {
      "cell_type": "markdown",
      "metadata": {
        "id": "6JXvsSMiotie",
        "colab_type": "text"
      },
      "source": [
        "`5.` Now use the **user_item_train** dataset from above to find U, S, and V transpose using SVD. Then find the subset of rows in the **user_item_test** dataset that you can predict using this matrix decomposition with different numbers of latent features to see how many features makes sense to keep based on the accuracy on the test data. This will require combining what was done in questions `2` - `4`.\n",
        "\n",
        "Use the cells below to explore how well SVD works towards making predictions for recommendations on the test data.  "
      ]
    },
    {
      "cell_type": "code",
      "metadata": {
        "id": "kROKuGmXTwpt",
        "colab_type": "code",
        "colab": {}
      },
      "source": [
        "# Fit Matrixes for SVD\n",
        "\n",
        "u_train, s_train, vt_train = np.linalg.svd(user_item_train)\n",
        "u_test, s_test, vt_test = np.linalg.svd(user_item_test)"
      ],
      "execution_count": 0,
      "outputs": []
    },
    {
      "cell_type": "code",
      "metadata": {
        "id": "jgmROAjk8p5x",
        "colab_type": "code",
        "colab": {
          "base_uri": "https://localhost:8080/",
          "height": 295
        },
        "outputId": "43b7dfb5-6adc-4583-bd95-c7172e16e65b"
      },
      "source": [
        "num_latent_feats = np.arange(10,570,10)\n",
        "train_errs, test_errs = [], []\n",
        "\n",
        "for k in num_latent_feats:\n",
        "    # restructure with k latent features (train set)\n",
        "    s_train_new, u_train_new, vt_train_new = np.diag(s_train[:k]), u_train[:, :k], vt_train[:k, :]\n",
        "\n",
        "    # restructure with k latent features (test set)\n",
        "    u_test_new, vt_test_new = u_test[:, :k], vt_test[:k, :]\n",
        "        \n",
        "    # take dot product (train set)\n",
        "    user_item_est_train = np.around(np.dot(np.dot(u_train_new, s_train_new), vt_train_new))\n",
        "\n",
        "    # take dot product (test set)\n",
        "    user_item_est_test = np.around(np.dot(np.dot(u_test_new, s_train_new), vt_test_new))\n",
        "    \n",
        "    # compute accuracy\n",
        "    train_errs.append(accuracy_score(user_item_train.values.flatten(), user_item_est_train.flatten()))\n",
        "    test_errs.append(accuracy_score(user_item_test_new.values.flatten(), user_item_est_test[0:len(test_train_idx)].flatten()))\n",
        "\n",
        "    #print(\"{} Latent Fratures \\t Train Accuracy: {} | Test Accuracy: {} \".format(k,train_errs[k-1],test_errs[k-1]))\n",
        "\n",
        "    \n",
        "    \n",
        "plt.figure()\n",
        "plt.plot(num_latent_feats, train_errs, label='Train')\n",
        "plt.plot(num_latent_feats, test_errs, label='Test')\n",
        "plt.xlabel('Number of Latent Features')\n",
        "plt.ylabel('Accuracy')\n",
        "plt.title('Accuracy vs. Number of Latent Features')\n",
        "plt.legend()\n",
        "plt.show()"
      ],
      "execution_count": 142,
      "outputs": [
        {
          "output_type": "display_data",
          "data": {
            "image/png": "[encoded data removed]",
            "text/plain": [
              "<Figure size 432x288 with 1 Axes>"
            ]
          },
          "metadata": {
            "tags": [],
            "needs_background": "light"
          }
        }
      ]
    },
    {
      "cell_type": "code",
      "metadata": {
        "id": "1uQlx3OgVgit",
        "colab_type": "code",
        "colab": {
          "base_uri": "https://localhost:8080/",
          "height": 54
        },
        "outputId": "dd2b38a1-6171-49d6-e789-00136529906c"
      },
      "source": [
        "# Optimal number of Latent Features\n",
        "opt_latent_feat = 10 + 10*(np.where(test_errs == max(test_errs))[0][0])\n",
        "# Accuracy at optimal latent feature number\n",
        "opt_acc = max(test_errs)\n",
        "\n",
        "print('Optimal Number of Latent Features : {} \\nAccuracy: {}'.format(opt_latent_feat, opt_acc))"
      ],
      "execution_count": 143,
      "outputs": [
        {
          "output_type": "stream",
          "text": [
            "Optimal Number of Latent Features : 90 \n",
            "Accuracy: 0.9841463414634146\n"
          ],
          "name": "stdout"
        }
      ]
    },
    {
      "cell_type": "markdown",
      "metadata": {
        "collapsed": true,
        "id": "U5hUYfnWotim",
        "colab_type": "text"
      },
      "source": [
        "`6.` Use the cell below to comment on the results you found in the previous question. Given the circumstances of your results, discuss what you might do to determine if the recommendations you make with any of the above recommendation systems are an improvement to how users currently find articles? "
      ]
    },
    {
      "cell_type": "markdown",
      "metadata": {
        "id": "4J9vbh6Rotim",
        "colab_type": "text"
      },
      "source": [
        "The best results were achieved using **90** latent features, where the model reached **98.41%** of accuracy predicting the test data.\n",
        "\n",
        "This results are quite expressive, however the model by itself wouldn't be enough to deploy a complete solution, as it's not able to give recommendations to new users.\n",
        "\n",
        "Hence, the best solution would be blending our **User-User Based Collaborative Filtering** with the **Rank-Based Recommendations**, which would enable us to make recommendations to all the cases.\n",
        "\n",
        "That being said, the best way to evaluate our solution, would be an **A/B Test**.\n",
        "\n",
        "One interesting metric to evaluate the performance of our recommendation system would be the average time users spent on a article's page.\n",
        "\n",
        "As our system has as objective recommend the most interessant articles to each user, it's expected that the average time users spent on a article's page is going to increase.\n",
        "\n",
        "$$ \\pi = \\frac{\\delta timepage_{avg}}{users} $$\n",
        "\n",
        "Hence, our hypothesis would be:\n",
        "\n",
        "\n",
        "$$ H0: \\pi_{new} - \\pi_{old} \\leq 0 $$\n",
        "$$ H1: \\pi_{new} - \\pi_{old} > 0 $$\n"
      ]
    }
  ]
}